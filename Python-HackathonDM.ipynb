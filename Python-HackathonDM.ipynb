{
 "cells": [
  {
   "cell_type": "code",
   "execution_count": 10,
   "id": "1fed2bd9",
   "metadata": {},
   "outputs": [],
   "source": [
    "import os\n",
    "import numpy as np\n",
    "import pandas as pd\n",
    "import matplotlib.pyplot as plt\n",
    "import seaborn as sns\n",
    "import datetime\n",
    "import math\n",
    "from datetime import date,datetime\n",
    "\n"
   ]
  },
  {
   "cell_type": "markdown",
   "id": "8ab23f96",
   "metadata": {},
   "source": [
    "##### 61. Show a graph by multiplotting on the same canvas"
   ]
  },
  {
   "cell_type": "code",
   "execution_count": 2,
   "id": "755834f2",
   "metadata": {},
   "outputs": [
    {
     "data": {
      "image/png": "[encoded data removed]",
      "text/plain": [
       "<Figure size 432x288 with 2 Axes>"
      ]
     },
     "metadata": {
      "needs_background": "light"
     },
     "output_type": "display_data"
    }
   ],
   "source": [
    "x = np.arange(0, math.pi*2, 0.05)\n",
    "fig=plt.figure()\n",
    "axes1 = fig.add_axes([0.1, 0.1, 0.8, 0.8]) # main axes\n",
    "axes2 = fig.add_axes([0.55, 0.55, 0.3, 0.3]) # inset axes\n",
    "y = np.sin(x)\n",
    "axes1.plot(x, y, 'b')\n",
    "axes2.plot(x,np.cos(x),'r')\n",
    "axes1.set_title('sine')\n",
    "axes2.set_title(\"cosine\")\n",
    "plt.show()"
   ]
  },
  {
   "cell_type": "markdown",
   "id": "ec201881",
   "metadata": {},
   "source": [
    "### 62.Display the data for all 'White Female' patients above the age of 50\n"
   ]
  },
  {
   "cell_type": "code",
   "execution_count": 74,
   "id": "98d2f03c",
   "metadata": {
    "scrolled": true
   },
   "outputs": [
    {
     "name": "stdout",
     "output_type": "stream",
     "text": [
      "2022-05-22 21:24:29.387759\n"
     ]
    },
    {
     "data": {
      "text/html": [
       "<div>\n",
       "<style scoped>\n",
       "    .dataframe tbody tr th:only-of-type {\n",
       "        vertical-align: middle;\n",
       "    }\n",
       "\n",
       "    .dataframe tbody tr th {\n",
       "        vertical-align: top;\n",
       "    }\n",
       "\n",
       "    .dataframe thead th {\n",
       "        text-align: right;\n",
       "    }\n",
       "</style>\n",
       "<table border=\"1\" class=\"dataframe\">\n",
       "  <thead>\n",
       "    <tr style=\"text-align: right;\">\n",
       "      <th></th>\n",
       "      <th>PatientID</th>\n",
       "      <th>FirstName</th>\n",
       "      <th>LastName</th>\n",
       "      <th>DateOfBirth</th>\n",
       "      <th>Gender</th>\n",
       "      <th>Race</th>\n",
       "      <th>Language</th>\n",
       "      <th>Age</th>\n",
       "    </tr>\n",
       "  </thead>\n",
       "  <tbody>\n",
       "    <tr>\n",
       "      <th>28</th>\n",
       "      <td>29</td>\n",
       "      <td>Ted</td>\n",
       "      <td>Scott</td>\n",
       "      <td>1967-12-09 05:01:37.892</td>\n",
       "      <td>Female</td>\n",
       "      <td>White</td>\n",
       "      <td>Spanish</td>\n",
       "      <td>54.453363</td>\n",
       "    </tr>\n",
       "    <tr>\n",
       "      <th>30</th>\n",
       "      <td>31</td>\n",
       "      <td>Harry</td>\n",
       "      <td>Ding</td>\n",
       "      <td>1960-10-08 01:42:51.212</td>\n",
       "      <td>Female</td>\n",
       "      <td>White</td>\n",
       "      <td>Spanish</td>\n",
       "      <td>61.621582</td>\n",
       "    </tr>\n",
       "    <tr>\n",
       "      <th>33</th>\n",
       "      <td>34</td>\n",
       "      <td>Ted</td>\n",
       "      <td>Hue</td>\n",
       "      <td>1960-11-28 18:05:11.459</td>\n",
       "      <td>Female</td>\n",
       "      <td>White</td>\n",
       "      <td>Spanish</td>\n",
       "      <td>61.480081</td>\n",
       "    </tr>\n",
       "    <tr>\n",
       "      <th>34</th>\n",
       "      <td>35</td>\n",
       "      <td>Fred</td>\n",
       "      <td>Tye</td>\n",
       "      <td>1966-04-14 06:01:07.169</td>\n",
       "      <td>Female</td>\n",
       "      <td>White</td>\n",
       "      <td>Spanish</td>\n",
       "      <td>56.106946</td>\n",
       "    </tr>\n",
       "    <tr>\n",
       "      <th>39</th>\n",
       "      <td>40</td>\n",
       "      <td>Christian</td>\n",
       "      <td>Pow</td>\n",
       "      <td>1971-12-07 11:47:43.885</td>\n",
       "      <td>Female</td>\n",
       "      <td>White</td>\n",
       "      <td>Spanish</td>\n",
       "      <td>50.457985</td>\n",
       "    </tr>\n",
       "    <tr>\n",
       "      <th>...</th>\n",
       "      <td>...</td>\n",
       "      <td>...</td>\n",
       "      <td>...</td>\n",
       "      <td>...</td>\n",
       "      <td>...</td>\n",
       "      <td>...</td>\n",
       "      <td>...</td>\n",
       "      <td>...</td>\n",
       "    </tr>\n",
       "    <tr>\n",
       "      <th>865</th>\n",
       "      <td>866</td>\n",
       "      <td>Jermayne</td>\n",
       "      <td>Lowndes</td>\n",
       "      <td>1970-12-09 04:49:48.933</td>\n",
       "      <td>Female</td>\n",
       "      <td>White</td>\n",
       "      <td>English</td>\n",
       "      <td>51.452640</td>\n",
       "    </tr>\n",
       "    <tr>\n",
       "      <th>866</th>\n",
       "      <td>867</td>\n",
       "      <td>Gail</td>\n",
       "      <td>Inc</td>\n",
       "      <td>1967-03-10 08:18:47.908</td>\n",
       "      <td>Female</td>\n",
       "      <td>White</td>\n",
       "      <td>English</td>\n",
       "      <td>55.203175</td>\n",
       "    </tr>\n",
       "    <tr>\n",
       "      <th>867</th>\n",
       "      <td>868</td>\n",
       "      <td>Des</td>\n",
       "      <td>Heindrick</td>\n",
       "      <td>1969-08-15 11:05:30.165</td>\n",
       "      <td>Female</td>\n",
       "      <td>White</td>\n",
       "      <td>English</td>\n",
       "      <td>52.768859</td>\n",
       "    </tr>\n",
       "    <tr>\n",
       "      <th>869</th>\n",
       "      <td>870</td>\n",
       "      <td>Hauck</td>\n",
       "      <td>Rubbens</td>\n",
       "      <td>1963-11-16 03:31:38.929</td>\n",
       "      <td>Female</td>\n",
       "      <td>White</td>\n",
       "      <td>English</td>\n",
       "      <td>58.516588</td>\n",
       "    </tr>\n",
       "    <tr>\n",
       "      <th>873</th>\n",
       "      <td>874</td>\n",
       "      <td>Schroeder</td>\n",
       "      <td>McGarvey</td>\n",
       "      <td>1971-12-09 11:56:22.068</td>\n",
       "      <td>Female</td>\n",
       "      <td>White</td>\n",
       "      <td>English</td>\n",
       "      <td>50.452493</td>\n",
       "    </tr>\n",
       "  </tbody>\n",
       "</table>\n",
       "<p>119 rows × 8 columns</p>\n",
       "</div>"
      ],
      "text/plain": [
       "     PatientID  FirstName   LastName             DateOfBirth  Gender   Race  \\\n",
       "28          29        Ted      Scott 1967-12-09 05:01:37.892  Female  White   \n",
       "30          31      Harry       Ding 1960-10-08 01:42:51.212  Female  White   \n",
       "33          34        Ted        Hue 1960-11-28 18:05:11.459  Female  White   \n",
       "34          35       Fred        Tye 1966-04-14 06:01:07.169  Female  White   \n",
       "39          40  Christian        Pow 1971-12-07 11:47:43.885  Female  White   \n",
       "..         ...        ...        ...                     ...     ...    ...   \n",
       "865        866   Jermayne    Lowndes 1970-12-09 04:49:48.933  Female  White   \n",
       "866        867       Gail        Inc 1967-03-10 08:18:47.908  Female  White   \n",
       "867        868        Des  Heindrick 1969-08-15 11:05:30.165  Female  White   \n",
       "869        870      Hauck    Rubbens 1963-11-16 03:31:38.929  Female  White   \n",
       "873        874  Schroeder   McGarvey 1971-12-09 11:56:22.068  Female  White   \n",
       "\n",
       "    Language        Age  \n",
       "28   Spanish  54.453363  \n",
       "30   Spanish  61.621582  \n",
       "33   Spanish  61.480081  \n",
       "34   Spanish  56.106946  \n",
       "39   Spanish  50.457985  \n",
       "..       ...        ...  \n",
       "865  English  51.452640  \n",
       "866  English  55.203175  \n",
       "867  English  52.768859  \n",
       "869  English  58.516588  \n",
       "873  English  50.452493  \n",
       "\n",
       "[119 rows x 8 columns]"
      ]
     },
     "execution_count": 74,
     "metadata": {},
     "output_type": "execute_result"
    }
   ],
   "source": [
    "df=pd.read_excel(r\"C:\\Users\\Divya\\Desktop\\DATA science\\PYTHON\\Hackathon\\HospitalDatabase.xlsx\",sheet_name=\"Patients\") #, na_values=[\"n.a.\", \"not avaliable\",-1],parse_dates=[\"DateOfBirth\"]\n",
    "df\n",
    "now = datetime.now()\n",
    "print(now)\n",
    "df[\"Age\"] =(now - df['DateOfBirth'])/np.timedelta64(1,'Y') \n",
    "df.sort_values(\"Age\")\n",
    "df.sort_values(\"Age\",ascending=True)\n",
    "df.loc[(df['Gender'] =='Female') & (df['Race'] == 'White')  & (df['Age'] > 50)]\n"
   ]
  },
  {
   "cell_type": "markdown",
   "id": "bbf7bde9",
   "metadata": {},
   "source": [
    "### 63.Using loc, retrieve the firstname and lastname of patients between indices 101 and 200"
   ]
  },
  {
   "cell_type": "code",
   "execution_count": 9,
   "id": "20ed0530",
   "metadata": {},
   "outputs": [
    {
     "data": {
      "text/html": [
       "<div>\n",
       "<style scoped>\n",
       "    .dataframe tbody tr th:only-of-type {\n",
       "        vertical-align: middle;\n",
       "    }\n",
       "\n",
       "    .dataframe tbody tr th {\n",
       "        vertical-align: top;\n",
       "    }\n",
       "\n",
       "    .dataframe thead th {\n",
       "        text-align: right;\n",
       "    }\n",
       "</style>\n",
       "<table border=\"1\" class=\"dataframe\">\n",
       "  <thead>\n",
       "    <tr style=\"text-align: right;\">\n",
       "      <th></th>\n",
       "      <th>FirstName</th>\n",
       "      <th>LastName</th>\n",
       "    </tr>\n",
       "  </thead>\n",
       "  <tbody>\n",
       "    <tr>\n",
       "      <th>101</th>\n",
       "      <td>Gipsy</td>\n",
       "      <td>Frankton</td>\n",
       "    </tr>\n",
       "    <tr>\n",
       "      <th>102</th>\n",
       "      <td>Jethro</td>\n",
       "      <td>Wharin</td>\n",
       "    </tr>\n",
       "    <tr>\n",
       "      <th>103</th>\n",
       "      <td>Viv</td>\n",
       "      <td>Aylward</td>\n",
       "    </tr>\n",
       "    <tr>\n",
       "      <th>104</th>\n",
       "      <td>Swift</td>\n",
       "      <td>Dreschler</td>\n",
       "    </tr>\n",
       "    <tr>\n",
       "      <th>105</th>\n",
       "      <td>Fadel</td>\n",
       "      <td>Jacquemard</td>\n",
       "    </tr>\n",
       "    <tr>\n",
       "      <th>...</th>\n",
       "      <td>...</td>\n",
       "      <td>...</td>\n",
       "    </tr>\n",
       "    <tr>\n",
       "      <th>196</th>\n",
       "      <td>Noam</td>\n",
       "      <td>Laguerre</td>\n",
       "    </tr>\n",
       "    <tr>\n",
       "      <th>197</th>\n",
       "      <td>Arie</td>\n",
       "      <td>Bayless</td>\n",
       "    </tr>\n",
       "    <tr>\n",
       "      <th>198</th>\n",
       "      <td>Janaye</td>\n",
       "      <td>O'Mohun</td>\n",
       "    </tr>\n",
       "    <tr>\n",
       "      <th>199</th>\n",
       "      <td>Fonz</td>\n",
       "      <td>Group</td>\n",
       "    </tr>\n",
       "    <tr>\n",
       "      <th>200</th>\n",
       "      <td>Cummings</td>\n",
       "      <td>Pickup</td>\n",
       "    </tr>\n",
       "  </tbody>\n",
       "</table>\n",
       "<p>100 rows × 2 columns</p>\n",
       "</div>"
      ],
      "text/plain": [
       "    FirstName    LastName\n",
       "101     Gipsy    Frankton\n",
       "102    Jethro      Wharin\n",
       "103       Viv     Aylward\n",
       "104     Swift   Dreschler\n",
       "105     Fadel  Jacquemard\n",
       "..        ...         ...\n",
       "196      Noam    Laguerre\n",
       "197      Arie     Bayless\n",
       "198    Janaye     O'Mohun\n",
       "199      Fonz       Group\n",
       "200  Cummings      Pickup\n",
       "\n",
       "[100 rows x 2 columns]"
      ]
     },
     "execution_count": 9,
     "metadata": {},
     "output_type": "execute_result"
    }
   ],
   "source": [
    "df=pd.read_excel(r\"C:\\Users\\Divya\\Desktop\\DATA science\\PYTHON\\Hackathon\\HospitalDatabase.xlsx\",sheet_name=\"Patients\")\n",
    "df.loc[101:200,\"FirstName\":\"LastName\"]"
   ]
  },
  {
   "cell_type": "markdown",
   "id": "9138f590",
   "metadata": {},
   "source": [
    "### 64.\"Using numpy functions, multiply the following arrays\n",
    " ### a=np.arange(6).reshape(2,3)\n",
    "###  b=np.arange(6).reshape(3,2)\"\n"
   ]
  },
  {
   "cell_type": "code",
   "execution_count": 10,
   "id": "3e2bbfd5",
   "metadata": {},
   "outputs": [
    {
     "name": "stdout",
     "output_type": "stream",
     "text": [
      "Original array : \n",
      " [0 1 2 3 4 5]\n",
      "\n",
      "array reshaped with 2 rows and 3 columns : \n",
      " [[0 1 2]\n",
      " [3 4 5]]\n",
      "\n",
      "array reshaped with 3 rows and 2 columns : \n",
      " [[0 1]\n",
      " [2 3]\n",
      " [4 5]]\n"
     ]
    }
   ],
   "source": [
    "array = np.arange(6)\n",
    "print(\"Original array : \\n\", array)\n",
    "array = np.arange(6).reshape(2, 3)\n",
    "print(\"\\narray reshaped with 2 rows and 3 columns : \\n\", array)\n",
    "array = np.arange(6).reshape(3 ,2)\n",
    "print(\"\\narray reshaped with 3 rows and 2 columns : \\n\", array)\n"
   ]
  },
  {
   "cell_type": "markdown",
   "id": "6318ce23",
   "metadata": {},
   "source": [
    "### 65. Get the count of number of patients based on service and primary diagnosis\n"
   ]
  },
  {
   "cell_type": "code",
   "execution_count": 11,
   "id": "4612b3cf",
   "metadata": {},
   "outputs": [
    {
     "name": "stdout",
     "output_type": "stream",
     "text": [
      "PrimaryDiagnosis\n",
      "AMI                   6\n",
      "Afib                  6\n",
      "Broken Leg            6\n",
      "Diabetes              6\n",
      "Fever                 6\n",
      "Flu                   6\n",
      "Heart Failure         6\n",
      "Hip Fracture          6\n",
      "Hypertension          6\n",
      "Kidney Failure        6\n",
      "Knee Replacement      6\n",
      "Laceration            6\n",
      "Migraine              6\n",
      "Pain                  6\n",
      "Pneumonia             6\n",
      "Spinal Cord Injury    6\n",
      "Stroke                6\n",
      "dtype: int64\n"
     ]
    }
   ],
   "source": [
    "df=pd.read_excel(r\"C:\\Users\\Divya\\Desktop\\DATA science\\PYTHON\\Hackathon\\HospitalDatabase.xlsx\",sheet_name=\"ReAdmissionRegistry\")\n",
    "df.loc[:,\"Service\":\"PrimaryDiagnosis\"]\n",
    "df_pivot = df.pivot_table(index = 'Service', columns = 'PrimaryDiagnosis', values = 'PatientID', aggfunc='count').fillna(0)\n",
    "print(df_pivot.count())\n"
   ]
  },
  {
   "cell_type": "code",
   "execution_count": null,
   "id": "beb9639d",
   "metadata": {},
   "outputs": [],
   "source": []
  },
  {
   "cell_type": "markdown",
   "id": "08a3ec6b",
   "metadata": {},
   "source": [
    "####  66. np.arange(1,31).reshape(6,5), find array slicing to get the elements 4,5,24,25,29,30\n"
   ]
  },
  {
   "cell_type": "code",
   "execution_count": 12,
   "id": "cc657bbb",
   "metadata": {},
   "outputs": [
    {
     "name": "stdout",
     "output_type": "stream",
     "text": [
      "Original array : \n",
      " [ 1  2  3  4  5  6  7  8  9 10 11 12 13 14 15 16 17 18 19 20 21 22 23 24\n",
      " 25 26 27 28 29 30]\n",
      "\n",
      "array reshaped with 6 rows and 5 columns : \n",
      " [[ 1  2  3  4  5]\n",
      " [ 6  7  8  9 10]\n",
      " [11 12 13 14 15]\n",
      " [16 17 18 19 20]\n",
      " [21 22 23 24 25]\n",
      " [26 27 28 29 30]]\n",
      "[[4 5]]\n",
      "[[24 25]]\n",
      "[29 30]\n"
     ]
    }
   ],
   "source": [
    "# Python Program illustrating\n",
    "# numpy.reshape() method\n",
    " \n",
    "import numpy as np\n",
    " \n",
    "array = np.arange(1,31)\n",
    "print(\"Original array : \\n\", array)\n",
    " \n",
    "# shape array with 6 rows and 5 columns\n",
    "array = np.arange(1,31).reshape(6, 5)\n",
    "print(\"\\narray reshaped with 6 rows and 5 columns : \\n\", array)\n",
    "\n",
    "print(array[:1,3:])\n",
    "print(array[4:5,3:])\n",
    "print(array[-1,3:])\n",
    " \n",
    "\n",
    "\n"
   ]
  },
  {
   "cell_type": "markdown",
   "id": "23b3a231",
   "metadata": {},
   "source": [
    "### 67.Make a pivot table by counts the no. of patients from the admission date till discharge date"
   ]
  },
  {
   "cell_type": "code",
   "execution_count": 88,
   "id": "e2fdfac4",
   "metadata": {},
   "outputs": [
    {
     "data": {
      "text/plain": [
       "DischargeDate            AdmissionDate\n",
       "2018-01-04 19:59:31.391  2018-01-01       1\n",
       "2018-01-04 21:28:51.898  2018-01-01       1\n",
       "2018-01-04 22:28:23.672  2018-01-01       1\n",
       "2018-01-05 02:40:20.756  2018-01-02       1\n",
       "2018-01-05 05:47:04.933  2018-01-01       1\n",
       "                                         ..\n",
       "2018-03-09 00:57:07.978  2018-02-21       1\n",
       "2018-03-09 07:07:45.088  2018-02-21       1\n",
       "2018-03-09 07:37:01.872  2018-02-21       1\n",
       "2018-03-10 06:06:12.068  2018-02-22       1\n",
       "2018-03-10 20:38:30.568  2018-02-22       1\n",
       "Name: PatientID, Length: 720, dtype: int64"
      ]
     },
     "execution_count": 88,
     "metadata": {},
     "output_type": "execute_result"
    }
   ],
   "source": [
    "df=pd.read_excel(r\"C:\\Users\\Divya\\Desktop\\DATA science\\PYTHON\\Hackathon\\HospitalDatabase.xlsx\",sheet_name=\"Discharges\")\n",
    "df.pivot_table(values = \"PatientID\" ,index=\"DischargeDate\" ,columns = \"AdmissionDate\",aggfunc=\"count\")\n",
    "df.groupby([\"DischargeDate\",\"AdmissionDate\"])[\"PatientID\"].count()"
   ]
  },
  {
   "cell_type": "markdown",
   "id": "1a513dca",
   "metadata": {},
   "source": [
    "### 68.Display the data where actual LOS is greater than expected LOS\n"
   ]
  },
  {
   "cell_type": "code",
   "execution_count": 144,
   "id": "a0d8200a",
   "metadata": {},
   "outputs": [
    {
     "data": {
      "text/html": [
       "<div>\n",
       "<style scoped>\n",
       "    .dataframe tbody tr th:only-of-type {\n",
       "        vertical-align: middle;\n",
       "    }\n",
       "\n",
       "    .dataframe tbody tr th {\n",
       "        vertical-align: top;\n",
       "    }\n",
       "\n",
       "    .dataframe thead th {\n",
       "        text-align: right;\n",
       "    }\n",
       "</style>\n",
       "<table border=\"1\" class=\"dataframe\">\n",
       "  <thead>\n",
       "    <tr style=\"text-align: right;\">\n",
       "      <th></th>\n",
       "      <th>AdmissionDate</th>\n",
       "      <th>DischargeDate</th>\n",
       "      <th>ExpectedLOS</th>\n",
       "      <th>ActualLOS</th>\n",
       "    </tr>\n",
       "  </thead>\n",
       "  <tbody>\n",
       "    <tr>\n",
       "      <th>1</th>\n",
       "      <td>2018-01-01</td>\n",
       "      <td>2018-01-04 21:28:51.898</td>\n",
       "      <td>3.825969</td>\n",
       "      <td>3.895045</td>\n",
       "    </tr>\n",
       "    <tr>\n",
       "      <th>2</th>\n",
       "      <td>2018-01-01</td>\n",
       "      <td>2018-01-04 22:28:23.672</td>\n",
       "      <td>3.382493</td>\n",
       "      <td>3.936385</td>\n",
       "    </tr>\n",
       "    <tr>\n",
       "      <th>3</th>\n",
       "      <td>2018-01-01</td>\n",
       "      <td>2018-01-05 05:47:04.933</td>\n",
       "      <td>3.763352</td>\n",
       "      <td>4.241029</td>\n",
       "    </tr>\n",
       "    <tr>\n",
       "      <th>10</th>\n",
       "      <td>2018-01-01</td>\n",
       "      <td>2018-01-09 09:21:47.300</td>\n",
       "      <td>7.162811</td>\n",
       "      <td>8.390131</td>\n",
       "    </tr>\n",
       "    <tr>\n",
       "      <th>11</th>\n",
       "      <td>2018-01-01</td>\n",
       "      <td>2018-01-09 21:34:42.467</td>\n",
       "      <td>4.554479</td>\n",
       "      <td>8.899103</td>\n",
       "    </tr>\n",
       "    <tr>\n",
       "      <th>...</th>\n",
       "      <td>...</td>\n",
       "      <td>...</td>\n",
       "      <td>...</td>\n",
       "      <td>...</td>\n",
       "    </tr>\n",
       "    <tr>\n",
       "      <th>715</th>\n",
       "      <td>2018-02-22</td>\n",
       "      <td>2018-03-07 21:22:10.061</td>\n",
       "      <td>13.725405</td>\n",
       "      <td>13.890394</td>\n",
       "    </tr>\n",
       "    <tr>\n",
       "      <th>716</th>\n",
       "      <td>2018-02-22</td>\n",
       "      <td>2018-03-08 02:43:18.749</td>\n",
       "      <td>11.355456</td>\n",
       "      <td>14.113411</td>\n",
       "    </tr>\n",
       "    <tr>\n",
       "      <th>717</th>\n",
       "      <td>2018-02-22</td>\n",
       "      <td>2018-03-08 09:27:18.377</td>\n",
       "      <td>4.819882</td>\n",
       "      <td>14.393963</td>\n",
       "    </tr>\n",
       "    <tr>\n",
       "      <th>718</th>\n",
       "      <td>2018-02-22</td>\n",
       "      <td>2018-03-10 06:06:12.068</td>\n",
       "      <td>3.123064</td>\n",
       "      <td>16.254306</td>\n",
       "    </tr>\n",
       "    <tr>\n",
       "      <th>719</th>\n",
       "      <td>2018-02-22</td>\n",
       "      <td>2018-03-10 20:38:30.568</td>\n",
       "      <td>7.195441</td>\n",
       "      <td>16.860076</td>\n",
       "    </tr>\n",
       "  </tbody>\n",
       "</table>\n",
       "<p>416 rows × 4 columns</p>\n",
       "</div>"
      ],
      "text/plain": [
       "    AdmissionDate           DischargeDate  ExpectedLOS  ActualLOS\n",
       "1      2018-01-01 2018-01-04 21:28:51.898     3.825969   3.895045\n",
       "2      2018-01-01 2018-01-04 22:28:23.672     3.382493   3.936385\n",
       "3      2018-01-01 2018-01-05 05:47:04.933     3.763352   4.241029\n",
       "10     2018-01-01 2018-01-09 09:21:47.300     7.162811   8.390131\n",
       "11     2018-01-01 2018-01-09 21:34:42.467     4.554479   8.899103\n",
       "..            ...                     ...          ...        ...\n",
       "715    2018-02-22 2018-03-07 21:22:10.061    13.725405  13.890394\n",
       "716    2018-02-22 2018-03-08 02:43:18.749    11.355456  14.113411\n",
       "717    2018-02-22 2018-03-08 09:27:18.377     4.819882  14.393963\n",
       "718    2018-02-22 2018-03-10 06:06:12.068     3.123064  16.254306\n",
       "719    2018-02-22 2018-03-10 20:38:30.568     7.195441  16.860076\n",
       "\n",
       "[416 rows x 4 columns]"
      ]
     },
     "execution_count": 144,
     "metadata": {},
     "output_type": "execute_result"
    }
   ],
   "source": [
    "df=pd.read_excel(r\"C:\\Users\\Divya\\Desktop\\DATA science\\PYTHON\\Hackathon\\HospitalDatabase.xlsx\",sheet_name=\"ReAdmissionRegistry\",usecols=\"C,D,H\")\n",
    "df\n",
    "df['ActualLOS'] = (df['DischargeDate'] - df['AdmissionDate'])/np.timedelta64(1,'D')\n",
    "\n",
    "df.query('ActualLOS > ExpectedLOS')\n"
   ]
  },
  {
   "cell_type": "markdown",
   "id": "48e3c69a",
   "metadata": {},
   "source": [
    "### 69. Details of the patients whose firstname or lastname contains string \"lau\" , should be case insensitive\n"
   ]
  },
  {
   "cell_type": "code",
   "execution_count": 167,
   "id": "84d79f55",
   "metadata": {},
   "outputs": [
    {
     "name": "stdout",
     "output_type": "stream",
     "text": [
      "     PatientID FirstName   LastName             DateOfBirth  Gender  \\\n",
      "282        283    Lauren     Gaskal 1962-05-08 01:54:00.111  Female   \n",
      "322        323    Lauren      Foort 1960-06-23 20:07:53.045  Female   \n",
      "369        370    Zulauf  Ellingham 1982-12-17 16:27:56.391  Female   \n",
      "382        383    Zulauf        LLC 1969-03-16 07:48:49.338  Female   \n",
      "454        455    Zulauf      Alvar 1961-10-02 08:24:17.334  Female   \n",
      "463        464    Zulauf     Manske 1965-06-22 02:49:28.667  Female   \n",
      "818        819    Zulauf   Bitcheno 1967-04-02 07:17:53.635  Female   \n",
      "830        831    Zulauf  O'Shavlan 1970-05-17 08:09:28.988  Female   \n",
      "850        851     Lemmy    Klausen 1973-06-18 06:19:43.475  Female   \n",
      "906        907  Jerrilyn    Klausen 1979-09-04 13:05:57.870    Male   \n",
      "910        911    Zulauf     Orbine 1973-06-26 03:13:50.449    Male   \n",
      "\n",
      "                       Race Language         FullName  \n",
      "282  Black/African-American  English     LaurenGaskal  \n",
      "322                   White  English      LaurenFoort  \n",
      "369                   White  English  ZulaufEllingham  \n",
      "382                   White  English        ZulaufLLC  \n",
      "454                   White  English      ZulaufAlvar  \n",
      "463                   White  English     ZulaufManske  \n",
      "818                   White  English   ZulaufBitcheno  \n",
      "830                   White  English  ZulaufO'Shavlan  \n",
      "850                   White  English     LemmyKlausen  \n",
      "906  Black/African-American  English  JerrilynKlausen  \n",
      "910  Black/African-American  English     ZulaufOrbine  \n"
     ]
    }
   ],
   "source": [
    "df=pd.read_excel(r\"C:\\Users\\Divya\\Desktop\\DATA science\\PYTHON\\Hackathon\\HospitalDatabase.xlsx\",sheet_name=\"Patients\" )\n",
    "df['FullName']= df['FirstName'] + df['LastName']\n",
    "df\n",
    "df=df[df['FullName'].str.contains('lau',case=False)]  \n",
    "print(df)"
   ]
  },
  {
   "cell_type": "markdown",
   "id": "aa2ce568",
   "metadata": {},
   "source": [
    "#### 70. Plot a graph to show the distribution of expected mortality\n"
   ]
  },
  {
   "cell_type": "code",
   "execution_count": 55,
   "id": "4dd23321",
   "metadata": {
    "scrolled": true
   },
   "outputs": [
    {
     "name": "stderr",
     "output_type": "stream",
     "text": [
      "C:\\Users\\Divya\\anaconda3\\lib\\site-packages\\seaborn\\distributions.py:2619: FutureWarning: `distplot` is a deprecated function and will be removed in a future version. Please adapt your code to use either `displot` (a figure-level function with similar flexibility) or `histplot` (an axes-level function for histograms).\n",
      "  warnings.warn(msg, FutureWarning)\n"
     ]
    },
    {
     "data": {
      "text/plain": [
       "<AxesSubplot:ylabel='Density'>"
      ]
     },
     "execution_count": 55,
     "metadata": {},
     "output_type": "execute_result"
    },
    {
     "data": {
      "image/png": "[encoded data removed]",
      "text/plain": [
       "<Figure size 432x288 with 1 Axes>"
      ]
     },
     "metadata": {
      "needs_background": "light"
     },
     "output_type": "display_data"
    }
   ],
   "source": [
    "df=pd.read_excel(r\"C:\\Users\\Divya\\Desktop\\DATA science\\PYTHON\\Hackathon\\HospitalDatabase.xlsx\",sheet_name=\"ReAdmissionRegistry\")\n",
    "\n",
    "x= df['ExpectedMortality'].values\n",
    "sns.distplot(x, color = 'red')\n"
   ]
  },
  {
   "cell_type": "code",
   "execution_count": 56,
   "id": "4fb89967",
   "metadata": {},
   "outputs": [
    {
     "data": {
      "image/png": "[encoded data removed]",
      "text/plain": [
       "<Figure size 432x288 with 1 Axes>"
      ]
     },
     "metadata": {
      "needs_background": "light"
     },
     "output_type": "display_data"
    }
   ],
   "source": [
    "x=sns.barplot(x= 'ExpectedMortality', y= 'PrimaryDiagnosis', data=df)\n"
   ]
  },
  {
   "cell_type": "markdown",
   "id": "4e3e4e21",
   "metadata": {},
   "source": [
    "#### 71.  Create a visualization on the count the no. of patients based on primary diagnosis\n"
   ]
  },
  {
   "cell_type": "code",
   "execution_count": 58,
   "id": "421dd55c",
   "metadata": {
    "scrolled": true
   },
   "outputs": [
    {
     "data": {
      "image/png": "[encoded data removed]",
      "text/plain": [
       "<Figure size 432x288 with 1 Axes>"
      ]
     },
     "metadata": {
      "needs_background": "light"
     },
     "output_type": "display_data"
    }
   ],
   "source": [
    "df=pd.read_excel(r\"C:\\Users\\Divya\\Desktop\\DATA science\\PYTHON\\Hackathon\\HospitalDatabase.xlsx\",sheet_name=\"Discharges\")\n",
    "sns.countplot(x=df['PrimaryDiagnosis']).set(title=\"Count of Patients\")\n",
    "  # Setting the X and Y labels\n",
    "plt.xlabel('PrimaryDiagnosis')\n",
    "plt.ylabel('PatientID')\n",
    "plt.xticks(rotation = 'vertical')\n",
    "plt.show()\n"
   ]
  },
  {
   "cell_type": "markdown",
   "id": "026f32a4",
   "metadata": {},
   "source": [
    "### 72. List male patients over the age of 60 who have undergone surgery from January-March 2019\n"
   ]
  },
  {
   "cell_type": "code",
   "execution_count": 85,
   "id": "86254896",
   "metadata": {},
   "outputs": [
    {
     "data": {
      "text/html": [
       "<div>\n",
       "<style scoped>\n",
       "    .dataframe tbody tr th:only-of-type {\n",
       "        vertical-align: middle;\n",
       "    }\n",
       "\n",
       "    .dataframe tbody tr th {\n",
       "        vertical-align: top;\n",
       "    }\n",
       "\n",
       "    .dataframe thead th {\n",
       "        text-align: right;\n",
       "    }\n",
       "</style>\n",
       "<table border=\"1\" class=\"dataframe\">\n",
       "  <thead>\n",
       "    <tr style=\"text-align: right;\">\n",
       "      <th></th>\n",
       "      <th>PatientID</th>\n",
       "      <th>Gender</th>\n",
       "      <th>FirstName</th>\n",
       "      <th>LastName</th>\n",
       "      <th>DateOfBirth</th>\n",
       "      <th>Age</th>\n",
       "      <th>PatientMRN</th>\n",
       "      <th>ProviderID</th>\n",
       "      <th>ProviderSpecialty</th>\n",
       "      <th>ProviderDateOnStaff</th>\n",
       "    </tr>\n",
       "  </thead>\n",
       "  <tbody>\n",
       "  </tbody>\n",
       "</table>\n",
       "</div>"
      ],
      "text/plain": [
       "Empty DataFrame\n",
       "Columns: [PatientID, Gender, FirstName, LastName, DateOfBirth, Age, PatientMRN, ProviderID, ProviderSpecialty, ProviderDateOnStaff]\n",
       "Index: []"
      ]
     },
     "execution_count": 85,
     "metadata": {},
     "output_type": "execute_result"
    }
   ],
   "source": [
    "df=pd.read_excel(r\"C:\\Users\\Divya\\Desktop\\DATA science\\PYTHON\\Hackathon\\HospitalDatabase.xlsx\",sheet_name=[\"Patients\",\"AmbulatoryVisits\",\"Providers\"])\n",
    "df1 = df['Patients'].filter(['PatientID', 'Gender','FirstName','LastName','DateOfBirth'])\n",
    "#convert age using timedelta \n",
    "now = datetime.now()\n",
    "df1['Age'] =(now - df1['DateOfBirth'])/np.timedelta64(1,'Y')\n",
    "\n",
    "df2 = df['AmbulatoryVisits'].filter(['PatientMRN','ProviderID'])\n",
    "start_date=datetime(2019,1,1)\n",
    "end_date= datetime(2019,3,1)\n",
    "\n",
    "df3 = df['Providers'].filter(['ProviderID','ProviderSpecialty','ProviderDateOnStaff'])\n",
    "\n",
    "df4 = pd.merge(df1, df2,left_on='PatientID',right_on='PatientMRN')\n",
    "df5=pd.merge(df4, df3,on='ProviderID')\n",
    "\n",
    "df5.loc[((df5['Gender'] =='Male') & (df5['Age'] > 60) &(df5['ProviderSpecialty'] =='Surgery') & (df5['ProviderDateOnStaff'] > start_date) & (df5['ProviderDateOnStaff'] > end_date))]\n"
   ]
  },
  {
   "cell_type": "markdown",
   "id": "6236a703",
   "metadata": {},
   "source": [
    "### 73.Delete the column 'DischargeDispostion' iteratively\n"
   ]
  },
  {
   "cell_type": "code",
   "execution_count": 60,
   "id": "7a25bd10",
   "metadata": {
    "scrolled": true
   },
   "outputs": [
    {
     "name": "stdout",
     "output_type": "stream",
     "text": [
      "\n",
      "\n",
      "DataFrame after deleting column\n",
      "--------------\n",
      "     AdmissionID  PatientID AdmissionDate           DischargeDate  \\\n",
      "0            389          1    2018-01-01 2018-01-04 19:59:31.391   \n",
      "1            635          2    2018-01-01 2018-01-04 21:28:51.898   \n",
      "2            606          3    2018-01-01 2018-01-04 22:28:23.672   \n",
      "3            587          5    2018-01-01 2018-01-05 05:47:04.933   \n",
      "4            640          6    2018-01-01 2018-01-05 14:18:30.029   \n",
      "..           ...        ...           ...                     ...   \n",
      "715          521        738    2018-02-22 2018-03-07 21:22:10.061   \n",
      "716          548        739    2018-02-22 2018-03-08 02:43:18.749   \n",
      "717          509        740    2018-02-22 2018-03-08 09:27:18.377   \n",
      "718          605        741    2018-02-22 2018-03-10 06:06:12.068   \n",
      "719          710        742    2018-02-22 2018-03-10 20:38:30.568   \n",
      "\n",
      "              Service PrimaryDiagnosis  ExpectedLOS  ExpectedMortality  \\\n",
      "0         Hospitalist   Kidney Failure     6.717771           0.010046   \n",
      "1    General Medicine              Flu     3.825969           0.604562   \n",
      "2    General Medicine              Flu     3.382493           0.266137   \n",
      "3    General Medicine              Flu     3.763352           0.307527   \n",
      "4                 ICU    Heart Failure    13.650953           0.408898   \n",
      "..                ...              ...          ...                ...   \n",
      "715        Cardiology              AMI    13.725405           0.388319   \n",
      "716               ICU        Pneumonia    11.355456           0.088518   \n",
      "717       Hospitalist        Pneumonia     4.819882           0.503308   \n",
      "718  General Medicine              Flu     3.123064           0.655870   \n",
      "719  General Medicine         Diabetes     7.195441           0.286439   \n",
      "\n",
      "     ReadmissionFlag  DaysToReadmission  EDVisitAfterDischargeFlag  \n",
      "0                NaN                NaN                        NaN  \n",
      "1                1.0                2.0                        1.0  \n",
      "2                1.0                3.0                        1.0  \n",
      "3                1.0                4.0                        1.0  \n",
      "4                NaN                NaN                        NaN  \n",
      "..               ...                ...                        ...  \n",
      "715              NaN                NaN                        NaN  \n",
      "716              NaN                NaN                        NaN  \n",
      "717              NaN                NaN                        NaN  \n",
      "718              NaN                NaN                        NaN  \n",
      "719              NaN                NaN                        NaN  \n",
      "\n",
      "[720 rows x 11 columns]\n"
     ]
    }
   ],
   "source": [
    "df=pd.read_excel(r\"C:\\Users\\Divya\\Desktop\\DATA science\\PYTHON\\Hackathon\\HospitalDatabase.xlsx\",sheet_name=\"ReAdmissionRegistry\")\n",
    "del df['DischargeDisposition']\n",
    "print('\\n\\nDataFrame after deleting column\\n--------------')\n",
    "print(df)"
   ]
  },
  {
   "cell_type": "markdown",
   "id": "b859a7d1",
   "metadata": {},
   "source": [
    "### 74.Get the list of ReasonForVisit\n"
   ]
  },
  {
   "cell_type": "code",
   "execution_count": 61,
   "id": "ad4fb4d6",
   "metadata": {},
   "outputs": [
    {
     "data": {
      "text/html": [
       "<div>\n",
       "<style scoped>\n",
       "    .dataframe tbody tr th:only-of-type {\n",
       "        vertical-align: middle;\n",
       "    }\n",
       "\n",
       "    .dataframe tbody tr th {\n",
       "        vertical-align: top;\n",
       "    }\n",
       "\n",
       "    .dataframe thead th {\n",
       "        text-align: right;\n",
       "    }\n",
       "</style>\n",
       "<table border=\"1\" class=\"dataframe\">\n",
       "  <thead>\n",
       "    <tr style=\"text-align: right;\">\n",
       "      <th></th>\n",
       "      <th>ReasonForVisit</th>\n",
       "    </tr>\n",
       "  </thead>\n",
       "  <tbody>\n",
       "    <tr>\n",
       "      <th>1</th>\n",
       "      <td>Migraine</td>\n",
       "    </tr>\n",
       "    <tr>\n",
       "      <th>2</th>\n",
       "      <td>Stomach Ache</td>\n",
       "    </tr>\n",
       "    <tr>\n",
       "      <th>3</th>\n",
       "      <td>Migraine</td>\n",
       "    </tr>\n",
       "    <tr>\n",
       "      <th>4</th>\n",
       "      <td>Chest Pain</td>\n",
       "    </tr>\n",
       "    <tr>\n",
       "      <th>5</th>\n",
       "      <td>Bleeding</td>\n",
       "    </tr>\n",
       "    <tr>\n",
       "      <th>...</th>\n",
       "      <td>...</td>\n",
       "    </tr>\n",
       "    <tr>\n",
       "      <th>940</th>\n",
       "      <td>Chest Pain</td>\n",
       "    </tr>\n",
       "    <tr>\n",
       "      <th>941</th>\n",
       "      <td>Pneumonia</td>\n",
       "    </tr>\n",
       "    <tr>\n",
       "      <th>942</th>\n",
       "      <td>Pneumonia</td>\n",
       "    </tr>\n",
       "    <tr>\n",
       "      <th>943</th>\n",
       "      <td>Pneumonia</td>\n",
       "    </tr>\n",
       "    <tr>\n",
       "      <th>944</th>\n",
       "      <td>Pneumonia</td>\n",
       "    </tr>\n",
       "  </tbody>\n",
       "</table>\n",
       "<p>944 rows × 1 columns</p>\n",
       "</div>"
      ],
      "text/plain": [
       "    ReasonForVisit\n",
       "1         Migraine\n",
       "2     Stomach Ache\n",
       "3         Migraine\n",
       "4       Chest Pain\n",
       "5         Bleeding\n",
       "..             ...\n",
       "940     Chest Pain\n",
       "941      Pneumonia\n",
       "942      Pneumonia\n",
       "943      Pneumonia\n",
       "944      Pneumonia\n",
       "\n",
       "[944 rows x 1 columns]"
      ]
     },
     "execution_count": 61,
     "metadata": {},
     "output_type": "execute_result"
    }
   ],
   "source": [
    "df=pd.read_excel(r\"C:\\Users\\Divya\\Desktop\\DATA science\\PYTHON\\Hackathon\\HospitalDatabase.xlsx\",sheet_name=\"EDUnique\")\n",
    "df.head()\n",
    "df.iloc[1:,5:6]"
   ]
  },
  {
   "cell_type": "markdown",
   "id": "88a21f08",
   "metadata": {},
   "source": [
    "### 75.Calculate the time spent in ED Department for each visit\n"
   ]
  },
  {
   "cell_type": "code",
   "execution_count": 105,
   "id": "d47dbcbf",
   "metadata": {},
   "outputs": [
    {
     "data": {
      "text/html": [
       "<div>\n",
       "<style scoped>\n",
       "    .dataframe tbody tr th:only-of-type {\n",
       "        vertical-align: middle;\n",
       "    }\n",
       "\n",
       "    .dataframe tbody tr th {\n",
       "        vertical-align: top;\n",
       "    }\n",
       "\n",
       "    .dataframe thead th {\n",
       "        text-align: right;\n",
       "    }\n",
       "</style>\n",
       "<table border=\"1\" class=\"dataframe\">\n",
       "  <thead>\n",
       "    <tr style=\"text-align: right;\">\n",
       "      <th></th>\n",
       "      <th>EDVisitID</th>\n",
       "      <th>VisitDate</th>\n",
       "      <th>EDDischargeTime</th>\n",
       "    </tr>\n",
       "  </thead>\n",
       "  <tbody>\n",
       "    <tr>\n",
       "      <th>0</th>\n",
       "      <td>1</td>\n",
       "      <td>2020-01-01 00:00:00.000</td>\n",
       "      <td>2020-01-01 11:20:22.924</td>\n",
       "    </tr>\n",
       "    <tr>\n",
       "      <th>1</th>\n",
       "      <td>12</td>\n",
       "      <td>2020-01-01 02:45:40.302</td>\n",
       "      <td>2020-01-02 02:00:00.517</td>\n",
       "    </tr>\n",
       "    <tr>\n",
       "      <th>2</th>\n",
       "      <td>13</td>\n",
       "      <td>2020-01-01 03:09:24.701</td>\n",
       "      <td>2020-01-01 05:00:20.852</td>\n",
       "    </tr>\n",
       "    <tr>\n",
       "      <th>3</th>\n",
       "      <td>14</td>\n",
       "      <td>2020-01-01 03:12:19.349</td>\n",
       "      <td>2020-01-01 04:32:29.142</td>\n",
       "    </tr>\n",
       "    <tr>\n",
       "      <th>4</th>\n",
       "      <td>15</td>\n",
       "      <td>2020-01-01 03:46:32.698</td>\n",
       "      <td>2020-01-01 06:24:52.741</td>\n",
       "    </tr>\n",
       "    <tr>\n",
       "      <th>...</th>\n",
       "      <td>...</td>\n",
       "      <td>...</td>\n",
       "      <td>...</td>\n",
       "    </tr>\n",
       "    <tr>\n",
       "      <th>940</th>\n",
       "      <td>1183</td>\n",
       "      <td>2020-01-15 10:38:42.570</td>\n",
       "      <td>2020-01-16 02:31:52.023</td>\n",
       "    </tr>\n",
       "    <tr>\n",
       "      <th>941</th>\n",
       "      <td>1186</td>\n",
       "      <td>2020-01-15 11:52:37.540</td>\n",
       "      <td>2020-01-16 10:19:41.570</td>\n",
       "    </tr>\n",
       "    <tr>\n",
       "      <th>942</th>\n",
       "      <td>1187</td>\n",
       "      <td>2020-01-15 12:11:11.678</td>\n",
       "      <td>2020-01-15 16:41:15.223</td>\n",
       "    </tr>\n",
       "    <tr>\n",
       "      <th>943</th>\n",
       "      <td>1188</td>\n",
       "      <td>2020-01-15 12:21:46.006</td>\n",
       "      <td>2020-01-15 18:32:21.060</td>\n",
       "    </tr>\n",
       "    <tr>\n",
       "      <th>944</th>\n",
       "      <td>1189</td>\n",
       "      <td>2020-01-15 12:51:14.875</td>\n",
       "      <td>2020-01-15 23:40:41.456</td>\n",
       "    </tr>\n",
       "  </tbody>\n",
       "</table>\n",
       "<p>945 rows × 3 columns</p>\n",
       "</div>"
      ],
      "text/plain": [
       "     EDVisitID               VisitDate         EDDischargeTime\n",
       "0            1 2020-01-01 00:00:00.000 2020-01-01 11:20:22.924\n",
       "1           12 2020-01-01 02:45:40.302 2020-01-02 02:00:00.517\n",
       "2           13 2020-01-01 03:09:24.701 2020-01-01 05:00:20.852\n",
       "3           14 2020-01-01 03:12:19.349 2020-01-01 04:32:29.142\n",
       "4           15 2020-01-01 03:46:32.698 2020-01-01 06:24:52.741\n",
       "..         ...                     ...                     ...\n",
       "940       1183 2020-01-15 10:38:42.570 2020-01-16 02:31:52.023\n",
       "941       1186 2020-01-15 11:52:37.540 2020-01-16 10:19:41.570\n",
       "942       1187 2020-01-15 12:11:11.678 2020-01-15 16:41:15.223\n",
       "943       1188 2020-01-15 12:21:46.006 2020-01-15 18:32:21.060\n",
       "944       1189 2020-01-15 12:51:14.875 2020-01-15 23:40:41.456\n",
       "\n",
       "[945 rows x 3 columns]"
      ]
     },
     "execution_count": 105,
     "metadata": {},
     "output_type": "execute_result"
    }
   ],
   "source": [
    "df=pd.read_excel(r\"C:\\Users\\Divya\\Desktop\\DATA science\\PYTHON\\Hackathon\\HospitalDatabase.xlsx\",sheet_name=\"EDUnique\",usecols=\"A,C,D\")\n",
    "df\n",
    "#usecols - gets the specific columns "
   ]
  },
  {
   "cell_type": "code",
   "execution_count": 118,
   "id": "4cc32e77",
   "metadata": {},
   "outputs": [
    {
     "name": "stdout",
     "output_type": "stream",
     "text": [
      "     EDVisitID               VisitDate         EDDischargeTime  \\\n",
      "0            1 2020-01-01 00:00:00.000 2020-01-01 11:20:22.924   \n",
      "1           12 2020-01-01 02:45:40.302 2020-01-02 02:00:00.517   \n",
      "2           13 2020-01-01 03:09:24.701 2020-01-01 05:00:20.852   \n",
      "3           14 2020-01-01 03:12:19.349 2020-01-01 04:32:29.142   \n",
      "4           15 2020-01-01 03:46:32.698 2020-01-01 06:24:52.741   \n",
      "..         ...                     ...                     ...   \n",
      "940       1183 2020-01-15 10:38:42.570 2020-01-16 02:31:52.023   \n",
      "941       1186 2020-01-15 11:52:37.540 2020-01-16 10:19:41.570   \n",
      "942       1187 2020-01-15 12:11:11.678 2020-01-15 16:41:15.223   \n",
      "943       1188 2020-01-15 12:21:46.006 2020-01-15 18:32:21.060   \n",
      "944       1189 2020-01-15 12:51:14.875 2020-01-15 23:40:41.456   \n",
      "\n",
      "                 ActualLOS  \n",
      "0   0 days 11:20:22.924000  \n",
      "1   0 days 23:14:20.215000  \n",
      "2   0 days 01:50:56.151000  \n",
      "3   0 days 01:20:09.793000  \n",
      "4   0 days 02:38:20.043000  \n",
      "..                     ...  \n",
      "940 0 days 15:53:09.453000  \n",
      "941 0 days 22:27:04.030000  \n",
      "942 0 days 04:30:03.545000  \n",
      "943 0 days 06:10:35.054000  \n",
      "944 0 days 10:49:26.581000  \n",
      "\n",
      "[945 rows x 4 columns]\n"
     ]
    }
   ],
   "source": [
    "df['ActualLOS'] = (df['EDDischargeTime'] - df['VisitDate'])\n",
    "print(df)"
   ]
  },
  {
   "cell_type": "markdown",
   "id": "37e72a18",
   "metadata": {},
   "source": [
    "### 76. Reverse the string without using inbuilt functions\n"
   ]
  },
  {
   "cell_type": "code",
   "execution_count": 26,
   "id": "d5417347",
   "metadata": {},
   "outputs": [
    {
     "name": "stdout",
     "output_type": "stream",
     "text": [
      "Enter the string: Divya\n",
      "The reverse string is ayviD\n"
     ]
    }
   ],
   "source": [
    "def findReverse(string):  #user-defined function     # A technique of defining the method/function that contains a call to itself is called recursion. The recursive function/method allows us to divide the complex problem into identical single simple cases that can be handle easily.\n",
    "   # find reverse of string\n",
    "   reverse = string[::-1]\n",
    "   return reverse\n",
    "\n",
    "# take inputs\n",
    "string = input('Enter the string: ')\n",
    "\n",
    "# calling function and display result\n",
    "reverse = findReverse(string)\n",
    "print('The reverse string is', reverse)\n",
    "\n"
   ]
  },
  {
   "cell_type": "code",
   "execution_count": 95,
   "id": "6b2973a3",
   "metadata": {},
   "outputs": [
    {
     "name": "stdout",
     "output_type": "stream",
     "text": [
      "Original String- Divya Reversed String- ayviD\n"
     ]
    }
   ],
   "source": [
    "#ANOTHER METHOD SLICING  \n",
    "\n",
    "def reverse_string(string):\n",
    "  reversed = s[::-1]      #When negative number is used as index, String is accessed backward so -1 refers to the last character, -2 second last and so on. Thus, by providing increment_step as -1 in string slicing you can reverse a string.\n",
    "  return reversed\n",
    "\n",
    "s = 'Divya'\n",
    "rstring = reverse_string(s)\n",
    "print('Original String-', s, 'Reversed String-', rstring)"
   ]
  },
  {
   "cell_type": "markdown",
   "id": "c9a4804e",
   "metadata": {},
   "source": [
    "### 77.Create a bar chart by making list on Acuity & EDDischarge column (with no duplicates) & make the hatchs onto the bar by using set_hatch() method\n"
   ]
  },
  {
   "cell_type": "code",
   "execution_count": 99,
   "id": "1fecb556",
   "metadata": {
    "scrolled": true
   },
   "outputs": [
    {
     "data": {
      "text/html": [
       "<div>\n",
       "<style scoped>\n",
       "    .dataframe tbody tr th:only-of-type {\n",
       "        vertical-align: middle;\n",
       "    }\n",
       "\n",
       "    .dataframe tbody tr th {\n",
       "        vertical-align: top;\n",
       "    }\n",
       "\n",
       "    .dataframe thead th {\n",
       "        text-align: right;\n",
       "    }\n",
       "</style>\n",
       "<table border=\"1\" class=\"dataframe\">\n",
       "  <thead>\n",
       "    <tr style=\"text-align: right;\">\n",
       "      <th></th>\n",
       "      <th>EDDischargeTime</th>\n",
       "      <th>Acuity</th>\n",
       "    </tr>\n",
       "  </thead>\n",
       "  <tbody>\n",
       "    <tr>\n",
       "      <th>0</th>\n",
       "      <td>2020-01-02 03:25:07.379</td>\n",
       "      <td>5</td>\n",
       "    </tr>\n",
       "    <tr>\n",
       "      <th>1</th>\n",
       "      <td>2020-01-02 04:31:45.968</td>\n",
       "      <td>5</td>\n",
       "    </tr>\n",
       "    <tr>\n",
       "      <th>2</th>\n",
       "      <td>2020-01-01 15:34:00.868</td>\n",
       "      <td>5</td>\n",
       "    </tr>\n",
       "    <tr>\n",
       "      <th>3</th>\n",
       "      <td>2020-01-01 18:30:35.922</td>\n",
       "      <td>5</td>\n",
       "    </tr>\n",
       "    <tr>\n",
       "      <th>4</th>\n",
       "      <td>2020-01-01 21:20:18.854</td>\n",
       "      <td>5</td>\n",
       "    </tr>\n",
       "    <tr>\n",
       "      <th>...</th>\n",
       "      <td>...</td>\n",
       "      <td>...</td>\n",
       "    </tr>\n",
       "    <tr>\n",
       "      <th>940</th>\n",
       "      <td>2020-01-16 07:49:50.485</td>\n",
       "      <td>1</td>\n",
       "    </tr>\n",
       "    <tr>\n",
       "      <th>941</th>\n",
       "      <td>2020-01-16 10:19:41.570</td>\n",
       "      <td>1</td>\n",
       "    </tr>\n",
       "    <tr>\n",
       "      <th>942</th>\n",
       "      <td>2020-01-15 16:41:15.223</td>\n",
       "      <td>1</td>\n",
       "    </tr>\n",
       "    <tr>\n",
       "      <th>943</th>\n",
       "      <td>2020-01-15 18:32:21.060</td>\n",
       "      <td>1</td>\n",
       "    </tr>\n",
       "    <tr>\n",
       "      <th>944</th>\n",
       "      <td>2020-01-15 23:40:41.456</td>\n",
       "      <td>1</td>\n",
       "    </tr>\n",
       "  </tbody>\n",
       "</table>\n",
       "<p>945 rows × 2 columns</p>\n",
       "</div>"
      ],
      "text/plain": [
       "            EDDischargeTime  Acuity\n",
       "0   2020-01-02 03:25:07.379       5\n",
       "1   2020-01-02 04:31:45.968       5\n",
       "2   2020-01-01 15:34:00.868       5\n",
       "3   2020-01-01 18:30:35.922       5\n",
       "4   2020-01-01 21:20:18.854       5\n",
       "..                      ...     ...\n",
       "940 2020-01-16 07:49:50.485       1\n",
       "941 2020-01-16 10:19:41.570       1\n",
       "942 2020-01-15 16:41:15.223       1\n",
       "943 2020-01-15 18:32:21.060       1\n",
       "944 2020-01-15 23:40:41.456       1\n",
       "\n",
       "[945 rows x 2 columns]"
      ]
     },
     "execution_count": 99,
     "metadata": {},
     "output_type": "execute_result"
    }
   ],
   "source": [
    "df=pd.read_excel(r\"C:\\Users\\Divya\\Desktop\\DATA science\\PYTHON\\Hackathon\\HospitalDatabase.xlsx\",sheet_name=\"EDUnique\",usecols=\"E,D\").drop_duplicates()\n",
    "df"
   ]
  },
  {
   "cell_type": "code",
   "execution_count": 65,
   "id": "c73680d4",
   "metadata": {
    "scrolled": true
   },
   "outputs": [
    {
     "ename": "ValueError",
     "evalue": "Could not interpret input 'Acuity'",
     "output_type": "error",
     "traceback": [
      "\u001b[1;31m---------------------------------------------------------------------------\u001b[0m",
      "\u001b[1;31mValueError\u001b[0m                                Traceback (most recent call last)",
      "\u001b[1;32m~\\AppData\\Local\\Temp/ipykernel_6440/2157647064.py\u001b[0m in \u001b[0;36m<module>\u001b[1;34m\u001b[0m\n\u001b[0;32m      5\u001b[0m \u001b[1;33m\u001b[0m\u001b[0m\n\u001b[0;32m      6\u001b[0m \u001b[1;31m# Make the barplot\u001b[0m\u001b[1;33m\u001b[0m\u001b[1;33m\u001b[0m\u001b[0m\n\u001b[1;32m----> 7\u001b[1;33m \u001b[0mbar\u001b[0m \u001b[1;33m=\u001b[0m \u001b[0msns\u001b[0m\u001b[1;33m.\u001b[0m\u001b[0mbarplot\u001b[0m\u001b[1;33m(\u001b[0m\u001b[0mx\u001b[0m\u001b[1;33m=\u001b[0m\u001b[1;34m\"Acuity\"\u001b[0m\u001b[1;33m,\u001b[0m \u001b[0my\u001b[0m\u001b[1;33m=\u001b[0m\u001b[1;34m\"EDDischargeTime\"\u001b[0m\u001b[1;33m,\u001b[0m \u001b[0mdata\u001b[0m\u001b[1;33m=\u001b[0m\u001b[0mdf\u001b[0m\u001b[1;33m)\u001b[0m\u001b[1;33m;\u001b[0m\u001b[1;33m\u001b[0m\u001b[1;33m\u001b[0m\u001b[0m\n\u001b[0m\u001b[0;32m      8\u001b[0m \u001b[1;33m\u001b[0m\u001b[0m\n\u001b[0;32m      9\u001b[0m \u001b[1;31m# Define some hatches\u001b[0m\u001b[1;33m\u001b[0m\u001b[1;33m\u001b[0m\u001b[0m\n",
      "\u001b[1;32m~\\anaconda3\\lib\\site-packages\\seaborn\\_decorators.py\u001b[0m in \u001b[0;36minner_f\u001b[1;34m(*args, **kwargs)\u001b[0m\n\u001b[0;32m     44\u001b[0m             )\n\u001b[0;32m     45\u001b[0m         \u001b[0mkwargs\u001b[0m\u001b[1;33m.\u001b[0m\u001b[0mupdate\u001b[0m\u001b[1;33m(\u001b[0m\u001b[1;33m{\u001b[0m\u001b[0mk\u001b[0m\u001b[1;33m:\u001b[0m \u001b[0marg\u001b[0m \u001b[1;32mfor\u001b[0m \u001b[0mk\u001b[0m\u001b[1;33m,\u001b[0m \u001b[0marg\u001b[0m \u001b[1;32min\u001b[0m \u001b[0mzip\u001b[0m\u001b[1;33m(\u001b[0m\u001b[0msig\u001b[0m\u001b[1;33m.\u001b[0m\u001b[0mparameters\u001b[0m\u001b[1;33m,\u001b[0m \u001b[0margs\u001b[0m\u001b[1;33m)\u001b[0m\u001b[1;33m}\u001b[0m\u001b[1;33m)\u001b[0m\u001b[1;33m\u001b[0m\u001b[1;33m\u001b[0m\u001b[0m\n\u001b[1;32m---> 46\u001b[1;33m         \u001b[1;32mreturn\u001b[0m \u001b[0mf\u001b[0m\u001b[1;33m(\u001b[0m\u001b[1;33m**\u001b[0m\u001b[0mkwargs\u001b[0m\u001b[1;33m)\u001b[0m\u001b[1;33m\u001b[0m\u001b[1;33m\u001b[0m\u001b[0m\n\u001b[0m\u001b[0;32m     47\u001b[0m     \u001b[1;32mreturn\u001b[0m \u001b[0minner_f\u001b[0m\u001b[1;33m\u001b[0m\u001b[1;33m\u001b[0m\u001b[0m\n\u001b[0;32m     48\u001b[0m \u001b[1;33m\u001b[0m\u001b[0m\n",
      "\u001b[1;32m~\\anaconda3\\lib\\site-packages\\seaborn\\categorical.py\u001b[0m in \u001b[0;36mbarplot\u001b[1;34m(x, y, hue, data, order, hue_order, estimator, ci, n_boot, units, seed, orient, color, palette, saturation, errcolor, errwidth, capsize, dodge, ax, **kwargs)\u001b[0m\n\u001b[0;32m   3180\u001b[0m ):\n\u001b[0;32m   3181\u001b[0m \u001b[1;33m\u001b[0m\u001b[0m\n\u001b[1;32m-> 3182\u001b[1;33m     plotter = _BarPlotter(x, y, hue, data, order, hue_order,\n\u001b[0m\u001b[0;32m   3183\u001b[0m                           \u001b[0mestimator\u001b[0m\u001b[1;33m,\u001b[0m \u001b[0mci\u001b[0m\u001b[1;33m,\u001b[0m \u001b[0mn_boot\u001b[0m\u001b[1;33m,\u001b[0m \u001b[0munits\u001b[0m\u001b[1;33m,\u001b[0m \u001b[0mseed\u001b[0m\u001b[1;33m,\u001b[0m\u001b[1;33m\u001b[0m\u001b[1;33m\u001b[0m\u001b[0m\n\u001b[0;32m   3184\u001b[0m                           \u001b[0morient\u001b[0m\u001b[1;33m,\u001b[0m \u001b[0mcolor\u001b[0m\u001b[1;33m,\u001b[0m \u001b[0mpalette\u001b[0m\u001b[1;33m,\u001b[0m \u001b[0msaturation\u001b[0m\u001b[1;33m,\u001b[0m\u001b[1;33m\u001b[0m\u001b[1;33m\u001b[0m\u001b[0m\n",
      "\u001b[1;32m~\\anaconda3\\lib\\site-packages\\seaborn\\categorical.py\u001b[0m in \u001b[0;36m__init__\u001b[1;34m(self, x, y, hue, data, order, hue_order, estimator, ci, n_boot, units, seed, orient, color, palette, saturation, errcolor, errwidth, capsize, dodge)\u001b[0m\n\u001b[0;32m   1582\u001b[0m                  errwidth, capsize, dodge):\n\u001b[0;32m   1583\u001b[0m         \u001b[1;34m\"\"\"Initialize the plotter.\"\"\"\u001b[0m\u001b[1;33m\u001b[0m\u001b[1;33m\u001b[0m\u001b[0m\n\u001b[1;32m-> 1584\u001b[1;33m         self.establish_variables(x, y, hue, data, orient,\n\u001b[0m\u001b[0;32m   1585\u001b[0m                                  order, hue_order, units)\n\u001b[0;32m   1586\u001b[0m         \u001b[0mself\u001b[0m\u001b[1;33m.\u001b[0m\u001b[0mestablish_colors\u001b[0m\u001b[1;33m(\u001b[0m\u001b[0mcolor\u001b[0m\u001b[1;33m,\u001b[0m \u001b[0mpalette\u001b[0m\u001b[1;33m,\u001b[0m \u001b[0msaturation\u001b[0m\u001b[1;33m)\u001b[0m\u001b[1;33m\u001b[0m\u001b[1;33m\u001b[0m\u001b[0m\n",
      "\u001b[1;32m~\\anaconda3\\lib\\site-packages\\seaborn\\categorical.py\u001b[0m in \u001b[0;36mestablish_variables\u001b[1;34m(self, x, y, hue, data, orient, order, hue_order, units)\u001b[0m\n\u001b[0;32m    151\u001b[0m                 \u001b[1;32mif\u001b[0m \u001b[0misinstance\u001b[0m\u001b[1;33m(\u001b[0m\u001b[0mvar\u001b[0m\u001b[1;33m,\u001b[0m \u001b[0mstr\u001b[0m\u001b[1;33m)\u001b[0m\u001b[1;33m:\u001b[0m\u001b[1;33m\u001b[0m\u001b[1;33m\u001b[0m\u001b[0m\n\u001b[0;32m    152\u001b[0m                     \u001b[0merr\u001b[0m \u001b[1;33m=\u001b[0m \u001b[1;34m\"Could not interpret input '{}'\"\u001b[0m\u001b[1;33m.\u001b[0m\u001b[0mformat\u001b[0m\u001b[1;33m(\u001b[0m\u001b[0mvar\u001b[0m\u001b[1;33m)\u001b[0m\u001b[1;33m\u001b[0m\u001b[1;33m\u001b[0m\u001b[0m\n\u001b[1;32m--> 153\u001b[1;33m                     \u001b[1;32mraise\u001b[0m \u001b[0mValueError\u001b[0m\u001b[1;33m(\u001b[0m\u001b[0merr\u001b[0m\u001b[1;33m)\u001b[0m\u001b[1;33m\u001b[0m\u001b[1;33m\u001b[0m\u001b[0m\n\u001b[0m\u001b[0;32m    154\u001b[0m \u001b[1;33m\u001b[0m\u001b[0m\n\u001b[0;32m    155\u001b[0m             \u001b[1;31m# Figure out the plotting orientation\u001b[0m\u001b[1;33m\u001b[0m\u001b[1;33m\u001b[0m\u001b[0m\n",
      "\u001b[1;31mValueError\u001b[0m: Could not interpret input 'Acuity'"
     ]
    },
    {
     "data": {
      "image/png": "[encoded data removed]",
      "text/plain": [
       "<Figure size 432x288 with 1 Axes>"
      ]
     },
     "metadata": {},
     "output_type": "display_data"
    }
   ],
   "source": [
    "df.plot.bar(color = 'Pink', edgecolor = 'blue')\n",
    "plt.title('Acuity & EDDischarge column')\n",
    "plt.xlabel('Acuity')\n",
    "plt.ylabel('EDDisposition')\n",
    "\n",
    "# Make the barplot\n",
    "bar = sns.barplot(x=\"Acuity\", y=\"EDDischargeTime\", data=df);\n",
    "\n",
    "# Define some hatches\n",
    "hatches = ['-', '+', 'x', '\\\\', '*', 'o']\n",
    "\n",
    "# Loop over the bars\n",
    "for i,thisbar in enumerate(bar.patches):\n",
    "    # Set a different hatch for each bar\n",
    "    thisbar.set_hatch(hatches[i])\n",
    "\n",
    "plt.show()\n"
   ]
  },
  {
   "cell_type": "markdown",
   "id": "5b1c9eae",
   "metadata": {},
   "source": [
    "### 78. Find reasonForVisit with highest count of acuity 5 patients\n"
   ]
  },
  {
   "cell_type": "code",
   "execution_count": null,
   "id": "1aee14a3",
   "metadata": {},
   "outputs": [],
   "source": []
  },
  {
   "cell_type": "code",
   "execution_count": 18,
   "id": "bfea6df0",
   "metadata": {},
   "outputs": [
    {
     "data": {
      "text/html": [
       "<div>\n",
       "<style scoped>\n",
       "    .dataframe tbody tr th:only-of-type {\n",
       "        vertical-align: middle;\n",
       "    }\n",
       "\n",
       "    .dataframe tbody tr th {\n",
       "        vertical-align: top;\n",
       "    }\n",
       "\n",
       "    .dataframe thead th {\n",
       "        text-align: right;\n",
       "    }\n",
       "</style>\n",
       "<table border=\"1\" class=\"dataframe\">\n",
       "  <thead>\n",
       "    <tr style=\"text-align: right;\">\n",
       "      <th></th>\n",
       "      <th>EDVisitID</th>\n",
       "      <th>PatientID</th>\n",
       "      <th>VisitDate</th>\n",
       "      <th>EDDischargeTime</th>\n",
       "      <th>Acuity</th>\n",
       "      <th>ReasonForVisit</th>\n",
       "      <th>EDDisposition</th>\n",
       "    </tr>\n",
       "  </thead>\n",
       "  <tbody>\n",
       "    <tr>\n",
       "      <th>325</th>\n",
       "      <td>894</td>\n",
       "      <td>640</td>\n",
       "      <td>2020-01-11 23:54:35.826</td>\n",
       "      <td>2020-01-12 00:49:59.407</td>\n",
       "      <td>5</td>\n",
       "      <td>Chest Pain</td>\n",
       "      <td>Admitted</td>\n",
       "    </tr>\n",
       "    <tr>\n",
       "      <th>427</th>\n",
       "      <td>1132</td>\n",
       "      <td>878</td>\n",
       "      <td>2020-01-14 18:00:00.982</td>\n",
       "      <td>2020-01-14 23:25:23.954</td>\n",
       "      <td>5</td>\n",
       "      <td>Car Accident</td>\n",
       "      <td>Admitted</td>\n",
       "    </tr>\n",
       "    <tr>\n",
       "      <th>131</th>\n",
       "      <td>336</td>\n",
       "      <td>245</td>\n",
       "      <td>2020-01-05 02:41:09.557</td>\n",
       "      <td>2020-01-05 07:40:59.835</td>\n",
       "      <td>5</td>\n",
       "      <td>Accident</td>\n",
       "      <td>admitted</td>\n",
       "    </tr>\n",
       "    <tr>\n",
       "      <th>430</th>\n",
       "      <td>1141</td>\n",
       "      <td>887</td>\n",
       "      <td>2020-01-14 21:15:16.813</td>\n",
       "      <td>2020-01-15 13:55:11.469</td>\n",
       "      <td>5</td>\n",
       "      <td>Chest Pain</td>\n",
       "      <td>Admitted</td>\n",
       "    </tr>\n",
       "    <tr>\n",
       "      <th>429</th>\n",
       "      <td>1140</td>\n",
       "      <td>886</td>\n",
       "      <td>2020-01-14 20:48:24.748</td>\n",
       "      <td>2020-01-15 04:59:13.081</td>\n",
       "      <td>5</td>\n",
       "      <td>Chest Pain</td>\n",
       "      <td>Admitted</td>\n",
       "    </tr>\n",
       "    <tr>\n",
       "      <th>...</th>\n",
       "      <td>...</td>\n",
       "      <td>...</td>\n",
       "      <td>...</td>\n",
       "      <td>...</td>\n",
       "      <td>...</td>\n",
       "      <td>...</td>\n",
       "      <td>...</td>\n",
       "    </tr>\n",
       "    <tr>\n",
       "      <th>610</th>\n",
       "      <td>613</td>\n",
       "      <td>359</td>\n",
       "      <td>2020-01-08 13:12:47.660</td>\n",
       "      <td>2020-01-09 10:22:08.877</td>\n",
       "      <td>1</td>\n",
       "      <td>Stomach Ache</td>\n",
       "      <td>discharged</td>\n",
       "    </tr>\n",
       "    <tr>\n",
       "      <th>609</th>\n",
       "      <td>608</td>\n",
       "      <td>354</td>\n",
       "      <td>2020-01-08 11:53:35.294</td>\n",
       "      <td>2020-01-09 05:26:56.688</td>\n",
       "      <td>1</td>\n",
       "      <td>Fever</td>\n",
       "      <td>discharged</td>\n",
       "    </tr>\n",
       "    <tr>\n",
       "      <th>608</th>\n",
       "      <td>607</td>\n",
       "      <td>353</td>\n",
       "      <td>2020-01-08 11:51:41.858</td>\n",
       "      <td>2020-01-09 06:30:35.121</td>\n",
       "      <td>1</td>\n",
       "      <td>Shortness of Breath</td>\n",
       "      <td>discharged</td>\n",
       "    </tr>\n",
       "    <tr>\n",
       "      <th>607</th>\n",
       "      <td>606</td>\n",
       "      <td>352</td>\n",
       "      <td>2020-01-08 11:33:21.664</td>\n",
       "      <td>2020-01-09 03:16:46.185</td>\n",
       "      <td>1</td>\n",
       "      <td>Fever</td>\n",
       "      <td>discharged</td>\n",
       "    </tr>\n",
       "    <tr>\n",
       "      <th>944</th>\n",
       "      <td>1189</td>\n",
       "      <td>935</td>\n",
       "      <td>2020-01-15 12:51:14.875</td>\n",
       "      <td>2020-01-15 23:40:41.456</td>\n",
       "      <td>1</td>\n",
       "      <td>Pneumonia</td>\n",
       "      <td>discharged</td>\n",
       "    </tr>\n",
       "  </tbody>\n",
       "</table>\n",
       "<p>945 rows × 7 columns</p>\n",
       "</div>"
      ],
      "text/plain": [
       "     EDVisitID  PatientID               VisitDate         EDDischargeTime  \\\n",
       "325        894        640 2020-01-11 23:54:35.826 2020-01-12 00:49:59.407   \n",
       "427       1132        878 2020-01-14 18:00:00.982 2020-01-14 23:25:23.954   \n",
       "131        336        245 2020-01-05 02:41:09.557 2020-01-05 07:40:59.835   \n",
       "430       1141        887 2020-01-14 21:15:16.813 2020-01-15 13:55:11.469   \n",
       "429       1140        886 2020-01-14 20:48:24.748 2020-01-15 04:59:13.081   \n",
       "..         ...        ...                     ...                     ...   \n",
       "610        613        359 2020-01-08 13:12:47.660 2020-01-09 10:22:08.877   \n",
       "609        608        354 2020-01-08 11:53:35.294 2020-01-09 05:26:56.688   \n",
       "608        607        353 2020-01-08 11:51:41.858 2020-01-09 06:30:35.121   \n",
       "607        606        352 2020-01-08 11:33:21.664 2020-01-09 03:16:46.185   \n",
       "944       1189        935 2020-01-15 12:51:14.875 2020-01-15 23:40:41.456   \n",
       "\n",
       "     Acuity       ReasonForVisit EDDisposition  \n",
       "325       5           Chest Pain      Admitted  \n",
       "427       5         Car Accident      Admitted  \n",
       "131       5             Accident      admitted  \n",
       "430       5           Chest Pain      Admitted  \n",
       "429       5           Chest Pain      Admitted  \n",
       "..      ...                  ...           ...  \n",
       "610       1         Stomach Ache    discharged  \n",
       "609       1                Fever    discharged  \n",
       "608       1  Shortness of Breath    discharged  \n",
       "607       1                Fever    discharged  \n",
       "944       1            Pneumonia    discharged  \n",
       "\n",
       "[945 rows x 7 columns]"
      ]
     },
     "execution_count": 18,
     "metadata": {},
     "output_type": "execute_result"
    }
   ],
   "source": [
    "df=pd.read_excel(r\"C:\\Users\\Divya\\Desktop\\DATA science\\PYTHON\\Hackathon\\HospitalDatabase.xlsx\",sheet_name=\"EDUnique\")\n",
    "#Hightest acuity \n",
    "#acuity and reasonfor visit\n",
    "df.head()\n",
    "df.sort_values(\"Acuity\",ascending=False)"
   ]
  },
  {
   "cell_type": "markdown",
   "id": "39fe57bc",
   "metadata": {},
   "source": [
    "#### 79.Which PrimaryDiagnosis has the biggest difference between maximum and minimum Expected LOS?\n"
   ]
  },
  {
   "cell_type": "code",
   "execution_count": 94,
   "id": "82004b5b",
   "metadata": {},
   "outputs": [
    {
     "name": "stdout",
     "output_type": "stream",
     "text": [
      "Pneumonia\n"
     ]
    }
   ],
   "source": [
    "df=pd.read_excel(r\"C:\\Users\\Divya\\Desktop\\DATA science\\PYTHON\\Hackathon\\HospitalDatabase.xlsx\",sheet_name=\"Discharges\")\n",
    "df\n",
    "#dataframe.idxmax() function returns index of first occurrence of maximum over requested axis\n",
    "#use groupby to find the max and min differnce of 2 columns  \n",
    "print((df.groupby(by=\"PrimaryDiagnosis\")[\"ExpectedLOS\"].max() - df.groupby(by=\"PrimaryDiagnosis\")[\"ExpectedLOS\"].min()) .idxmax(axis=0))\n"
   ]
  },
  {
   "cell_type": "markdown",
   "id": "5ca7c99d",
   "metadata": {},
   "source": [
    "#### 80.Write a code snippet to print different ProviderSpecialty ( use groupby and get the list of the groups)\n"
   ]
  },
  {
   "cell_type": "code",
   "execution_count": 66,
   "id": "fdcec57f",
   "metadata": {},
   "outputs": [
    {
     "name": "stdout",
     "output_type": "stream",
     "text": [
      "Cardiology\n",
      "    ProviderID   ProviderName ProviderSpecialty     ProviderDateOnStaff\n",
      "16          17   Kent Kendall        Cardiology 2001-12-22 11:18:32.919\n",
      "17          18     Ryan Kevin        Cardiology 2003-01-14 21:16:34.778\n",
      "18          19   Tyler Conner        Cardiology 2003-07-09 02:41:40.410\n",
      "19          20  Bailey Barret        Cardiology 2003-08-20 16:05:50.179\n",
      "20          21    Megan Bonco        Cardiology 2004-02-17 21:22:30.546\n",
      "21          22  Joesph Walter        Cardiology 2005-02-04 11:40:44.121\n",
      "22          23    Walter King        Cardiology 2006-03-12 22:11:58.070\n",
      "23          24      Luke Long        Cardiology 2006-04-28 00:16:36.762\n",
      "Pediatrics\n",
      "   ProviderID    ProviderName ProviderSpecialty     ProviderDateOnStaff\n",
      "0           1       Sally Sue        Pediatrics 1993-01-01 00:00:00.000\n",
      "1           2      Mike Myers        Pediatrics 1993-05-02 00:00:17.695\n",
      "2           3  Jordan Michael        Pediatrics 1993-06-24 21:31:46.687\n",
      "3           4       Ted Texas        Pediatrics 1993-12-23 21:33:52.299\n",
      "4           5        Ala Bama        Pediatrics 1995-01-10 02:53:47.838\n",
      "5           6      Harry Kane        Pediatrics 1995-07-21 03:49:03.310\n",
      "6           7       Barry Bar        Pediatrics 1995-11-21 19:30:38.759\n",
      "7           8       Ted Green        Pediatrics 1996-05-30 06:14:52.539\n",
      "8           9       Ted Black        Pediatrics 1997-02-20 08:01:10.211\n",
      "PrimaryCare\n",
      "    ProviderID     ProviderName ProviderSpecialty     ProviderDateOnStaff\n",
      "24          25      Justin Time       PrimaryCare 2006-06-21 04:46:36.838\n",
      "25          26      Mike Joseph       PrimaryCare 2006-12-29 16:26:41.085\n",
      "26          27   Bridget Brenda       PrimaryCare 2007-06-30 05:53:46.143\n",
      "27          28      Brenda Bing       PrimaryCare 2007-11-18 22:33:55.792\n",
      "28          29    Chandler Bing       PrimaryCare 2007-12-07 23:50:10.442\n",
      "29          30      Joesph Ross       PrimaryCare 2008-11-08 18:06:32.983\n",
      "30          31     Dwight Scott       PrimaryCare 2009-04-18 19:15:44.587\n",
      "31          32  Michael Halpert       PrimaryCare 2009-09-02 00:14:41.441\n",
      "32          33      Pamela Ding       PrimaryCare 2009-11-12 03:59:49.655\n",
      "33          34       Tony Creed       PrimaryCare 2010-04-28 14:11:26.802\n",
      "34          35  Phyllis Stanley       PrimaryCare 2011-05-05 16:06:03.222\n",
      "35          36        Holly Hue       PrimaryCare 2012-06-24 06:55:22.021\n",
      "36          37        Trent Tye       PrimaryCare 2013-01-12 15:32:21.137\n",
      "37          38    Kimberly Cone       PrimaryCare 2013-05-23 05:17:19.360\n",
      "38          39       Harry West       PrimaryCare 2013-07-14 00:22:03.151\n",
      "39          40     Rosie Renter       PrimaryCare 2013-09-11 12:07:55.584\n",
      "Surgery\n",
      "    ProviderID     ProviderName ProviderSpecialty     ProviderDateOnStaff\n",
      "9           10         Fred Man           Surgery 1998-03-17 01:47:18.794\n",
      "10          11     Kim Kimberly           Surgery 1998-05-10 14:47:29.468\n",
      "11          12         Sarah Ab           Surgery 1998-08-18 05:22:40.762\n",
      "12          13  Abigail Marriot           Surgery 1998-11-08 12:25:45.705\n",
      "13          14          Dave Yu           Surgery 1999-06-26 16:18:57.436\n",
      "14          15  Christian Saint           Surgery 2000-08-27 00:12:40.326\n",
      "15          16     Perry Pardon           Surgery 2001-02-13 11:49:17.862\n"
     ]
    }
   ],
   "source": [
    "df=pd.read_excel(r\"C:\\Users\\Divya\\Desktop\\DATA science\\PYTHON\\Hackathon\\HospitalDatabase.xlsx\",sheet_name=\"Providers\")\n",
    "g=df.groupby('ProviderSpecialty')\n",
    "g\n",
    "for ProviderSpecialty ,ProviderSpecialty_df in g:\n",
    "    print(ProviderSpecialty)\n",
    "    print(ProviderSpecialty_df)"
   ]
  },
  {
   "cell_type": "markdown",
   "id": "50de8120",
   "metadata": {},
   "source": [
    "### 81. Display full name of patients\n"
   ]
  },
  {
   "cell_type": "code",
   "execution_count": 67,
   "id": "22596832",
   "metadata": {},
   "outputs": [
    {
     "name": "stdout",
     "output_type": "stream",
     "text": [
      "     PatientID FirstName  LastName             DateOfBirth Gender  \\\n",
      "0            1     Lanni       Sue 1960-01-01 00:00:00.000   Male   \n",
      "1            2       Far     Myers 1985-11-15 02:08:42.090   Male   \n",
      "2            3   Devlin    Michael 1976-04-15 02:52:09.762   Male   \n",
      "3            4   Carmine     Texas 1968-10-15 03:32:13.635   Male   \n",
      "4            5     Tann       Bama 1962-05-01 19:12:58.950   Male   \n",
      "..         ...       ...       ...                     ...    ...   \n",
      "940        941       Wat   Fideler 1986-05-26 00:01:19.761   Male   \n",
      "941        942    Wandie  Baythrop 1970-06-10 21:41:03.814   Male   \n",
      "942        943   Diahann   Smeeton 1983-01-08 21:49:27.884   Male   \n",
      "943        944  Panchito   Sharple 1963-06-05 07:57:05.569   Male   \n",
      "944        945     Walsh    Calvie 1972-08-06 03:40:03.454   Male   \n",
      "\n",
      "                       Race Language         Fullname  \n",
      "0                     White  English         LanniSue  \n",
      "1                     White  English         FarMyers  \n",
      "2                     White  English   Devlin Michael  \n",
      "3                     White  English     CarmineTexas  \n",
      "4                     White  English        Tann Bama  \n",
      "..                      ...      ...              ...  \n",
      "940  Black/African-American  English       WatFideler  \n",
      "941  Black/African-American  English   WandieBaythrop  \n",
      "942  Black/African-American  English   DiahannSmeeton  \n",
      "943  Black/African-American  English  PanchitoSharple  \n",
      "944  Black/African-American  English      WalshCalvie  \n",
      "\n",
      "[945 rows x 8 columns]\n"
     ]
    }
   ],
   "source": [
    "df=pd.read_excel(r\"C:\\Users\\Divya\\Desktop\\DATA science\\PYTHON\\Hackathon\\HospitalDatabase.xlsx\",sheet_name=\"Patients\")\n",
    "df['Fullname']= df.FirstName.str.cat(df.LastName)\n",
    "print(df)"
   ]
  },
  {
   "cell_type": "markdown",
   "id": "99e43511",
   "metadata": {},
   "source": [
    "#### 83. Create the plot where x= np.arange(0, 10, 0.1) and y= np.sin(np.pi * x) + x  by adding two axes to a figure object at [0.1,0.1,0.9,0.9] & [0.2,0.6,0.3,0.3]\n"
   ]
  },
  {
   "cell_type": "code",
   "execution_count": 30,
   "id": "c39cda73",
   "metadata": {},
   "outputs": [
    {
     "data": {
      "text/plain": [
       "[<matplotlib.lines.Line2D at 0x256a4d77f40>]"
      ]
     },
     "execution_count": 30,
     "metadata": {},
     "output_type": "execute_result"
    },
    {
     "data": {
      "image/png": "[encoded data removed]",
      "text/plain": [
       "<Figure size 864x720 with 2 Axes>"
      ]
     },
     "metadata": {},
     "output_type": "display_data"
    }
   ],
   "source": [
    "x = np.arange(0, 10, 0.1)\n",
    "y = np.sin(np.pi * x) + x \n",
    "\n",
    "fig2=plt.figure()\n",
    "\n",
    "fig2_main=fig2.add_axes([0.1,0.1,0.9,0.9])\n",
    "\n",
    "fig2_inset=fig2.add_axes([0.2,0.6,0.3,0.3])\n",
    "fig2_main.plot(x,y)\n",
    "fig2_inset.plot(y,x)"
   ]
  },
  {
   "cell_type": "markdown",
   "id": "b530670c",
   "metadata": {},
   "source": [
    "### 1.Make a pair plot on Readmission Registry table & do u see any correlation between columns values\n",
    "\n"
   ]
  },
  {
   "cell_type": "code",
   "execution_count": 52,
   "id": "5871b925",
   "metadata": {
    "scrolled": true
   },
   "outputs": [
    {
     "data": {
      "text/html": [
       "<div>\n",
       "<style scoped>\n",
       "    .dataframe tbody tr th:only-of-type {\n",
       "        vertical-align: middle;\n",
       "    }\n",
       "\n",
       "    .dataframe tbody tr th {\n",
       "        vertical-align: top;\n",
       "    }\n",
       "\n",
       "    .dataframe thead th {\n",
       "        text-align: right;\n",
       "    }\n",
       "</style>\n",
       "<table border=\"1\" class=\"dataframe\">\n",
       "  <thead>\n",
       "    <tr style=\"text-align: right;\">\n",
       "      <th></th>\n",
       "      <th>AdmissionID</th>\n",
       "      <th>PatientID</th>\n",
       "      <th>ExpectedLOS</th>\n",
       "      <th>ExpectedMortality</th>\n",
       "      <th>ReadmissionFlag</th>\n",
       "      <th>DaysToReadmission</th>\n",
       "      <th>EDVisitAfterDischargeFlag</th>\n",
       "    </tr>\n",
       "  </thead>\n",
       "  <tbody>\n",
       "    <tr>\n",
       "      <th>AdmissionID</th>\n",
       "      <td>1.000000</td>\n",
       "      <td>0.302079</td>\n",
       "      <td>-0.070080</td>\n",
       "      <td>0.034083</td>\n",
       "      <td>NaN</td>\n",
       "      <td>0.049632</td>\n",
       "      <td>NaN</td>\n",
       "    </tr>\n",
       "    <tr>\n",
       "      <th>PatientID</th>\n",
       "      <td>0.302079</td>\n",
       "      <td>1.000000</td>\n",
       "      <td>-0.015485</td>\n",
       "      <td>0.008014</td>\n",
       "      <td>NaN</td>\n",
       "      <td>0.001710</td>\n",
       "      <td>NaN</td>\n",
       "    </tr>\n",
       "    <tr>\n",
       "      <th>ExpectedLOS</th>\n",
       "      <td>-0.070080</td>\n",
       "      <td>-0.015485</td>\n",
       "      <td>1.000000</td>\n",
       "      <td>0.220725</td>\n",
       "      <td>NaN</td>\n",
       "      <td>0.010294</td>\n",
       "      <td>NaN</td>\n",
       "    </tr>\n",
       "    <tr>\n",
       "      <th>ExpectedMortality</th>\n",
       "      <td>0.034083</td>\n",
       "      <td>0.008014</td>\n",
       "      <td>0.220725</td>\n",
       "      <td>1.000000</td>\n",
       "      <td>NaN</td>\n",
       "      <td>-0.052563</td>\n",
       "      <td>NaN</td>\n",
       "    </tr>\n",
       "    <tr>\n",
       "      <th>ReadmissionFlag</th>\n",
       "      <td>NaN</td>\n",
       "      <td>NaN</td>\n",
       "      <td>NaN</td>\n",
       "      <td>NaN</td>\n",
       "      <td>NaN</td>\n",
       "      <td>NaN</td>\n",
       "      <td>NaN</td>\n",
       "    </tr>\n",
       "    <tr>\n",
       "      <th>DaysToReadmission</th>\n",
       "      <td>0.049632</td>\n",
       "      <td>0.001710</td>\n",
       "      <td>0.010294</td>\n",
       "      <td>-0.052563</td>\n",
       "      <td>NaN</td>\n",
       "      <td>1.000000</td>\n",
       "      <td>NaN</td>\n",
       "    </tr>\n",
       "    <tr>\n",
       "      <th>EDVisitAfterDischargeFlag</th>\n",
       "      <td>NaN</td>\n",
       "      <td>NaN</td>\n",
       "      <td>NaN</td>\n",
       "      <td>NaN</td>\n",
       "      <td>NaN</td>\n",
       "      <td>NaN</td>\n",
       "      <td>NaN</td>\n",
       "    </tr>\n",
       "  </tbody>\n",
       "</table>\n",
       "</div>"
      ],
      "text/plain": [
       "                           AdmissionID  PatientID  ExpectedLOS  \\\n",
       "AdmissionID                   1.000000   0.302079    -0.070080   \n",
       "PatientID                     0.302079   1.000000    -0.015485   \n",
       "ExpectedLOS                  -0.070080  -0.015485     1.000000   \n",
       "ExpectedMortality             0.034083   0.008014     0.220725   \n",
       "ReadmissionFlag                    NaN        NaN          NaN   \n",
       "DaysToReadmission             0.049632   0.001710     0.010294   \n",
       "EDVisitAfterDischargeFlag          NaN        NaN          NaN   \n",
       "\n",
       "                           ExpectedMortality  ReadmissionFlag  \\\n",
       "AdmissionID                         0.034083              NaN   \n",
       "PatientID                           0.008014              NaN   \n",
       "ExpectedLOS                         0.220725              NaN   \n",
       "ExpectedMortality                   1.000000              NaN   \n",
       "ReadmissionFlag                          NaN              NaN   \n",
       "DaysToReadmission                  -0.052563              NaN   \n",
       "EDVisitAfterDischargeFlag                NaN              NaN   \n",
       "\n",
       "                           DaysToReadmission  EDVisitAfterDischargeFlag  \n",
       "AdmissionID                         0.049632                        NaN  \n",
       "PatientID                           0.001710                        NaN  \n",
       "ExpectedLOS                         0.010294                        NaN  \n",
       "ExpectedMortality                  -0.052563                        NaN  \n",
       "ReadmissionFlag                          NaN                        NaN  \n",
       "DaysToReadmission                   1.000000                        NaN  \n",
       "EDVisitAfterDischargeFlag                NaN                        NaN  "
      ]
     },
     "execution_count": 52,
     "metadata": {},
     "output_type": "execute_result"
    }
   ],
   "source": [
    "df=pd.read_excel(r\"C:\\Users\\Divya\\Desktop\\DATA science\\PYTHON\\Hackathon\\HospitalDatabase.xlsx\",sheet_name=\"ReAdmissionRegistry\")\n",
    "df.corr()"
   ]
  },
  {
   "cell_type": "code",
   "execution_count": 67,
   "id": "9bd2a634",
   "metadata": {},
   "outputs": [
    {
     "ename": "KeyError",
     "evalue": "'ReAdmissionRegistry'",
     "output_type": "error",
     "traceback": [
      "\u001b[1;31m---------------------------------------------------------------------------\u001b[0m",
      "\u001b[1;31mKeyError\u001b[0m                                  Traceback (most recent call last)",
      "\u001b[1;32m~\\anaconda3\\lib\\site-packages\\pandas\\core\\indexes\\base.py\u001b[0m in \u001b[0;36mget_loc\u001b[1;34m(self, key, method, tolerance)\u001b[0m\n\u001b[0;32m   3360\u001b[0m             \u001b[1;32mtry\u001b[0m\u001b[1;33m:\u001b[0m\u001b[1;33m\u001b[0m\u001b[1;33m\u001b[0m\u001b[0m\n\u001b[1;32m-> 3361\u001b[1;33m                 \u001b[1;32mreturn\u001b[0m \u001b[0mself\u001b[0m\u001b[1;33m.\u001b[0m\u001b[0m_engine\u001b[0m\u001b[1;33m.\u001b[0m\u001b[0mget_loc\u001b[0m\u001b[1;33m(\u001b[0m\u001b[0mcasted_key\u001b[0m\u001b[1;33m)\u001b[0m\u001b[1;33m\u001b[0m\u001b[1;33m\u001b[0m\u001b[0m\n\u001b[0m\u001b[0;32m   3362\u001b[0m             \u001b[1;32mexcept\u001b[0m \u001b[0mKeyError\u001b[0m \u001b[1;32mas\u001b[0m \u001b[0merr\u001b[0m\u001b[1;33m:\u001b[0m\u001b[1;33m\u001b[0m\u001b[1;33m\u001b[0m\u001b[0m\n",
      "\u001b[1;32m~\\anaconda3\\lib\\site-packages\\pandas\\_libs\\index.pyx\u001b[0m in \u001b[0;36mpandas._libs.index.IndexEngine.get_loc\u001b[1;34m()\u001b[0m\n",
      "\u001b[1;32m~\\anaconda3\\lib\\site-packages\\pandas\\_libs\\index.pyx\u001b[0m in \u001b[0;36mpandas._libs.index.IndexEngine.get_loc\u001b[1;34m()\u001b[0m\n",
      "\u001b[1;32mpandas\\_libs\\hashtable_class_helper.pxi\u001b[0m in \u001b[0;36mpandas._libs.hashtable.PyObjectHashTable.get_item\u001b[1;34m()\u001b[0m\n",
      "\u001b[1;32mpandas\\_libs\\hashtable_class_helper.pxi\u001b[0m in \u001b[0;36mpandas._libs.hashtable.PyObjectHashTable.get_item\u001b[1;34m()\u001b[0m\n",
      "\u001b[1;31mKeyError\u001b[0m: 'ReAdmissionRegistry'",
      "\nThe above exception was the direct cause of the following exception:\n",
      "\u001b[1;31mKeyError\u001b[0m                                  Traceback (most recent call last)",
      "\u001b[1;32m~\\AppData\\Local\\Temp/ipykernel_6440/3735727157.py\u001b[0m in \u001b[0;36m<module>\u001b[1;34m\u001b[0m\n\u001b[0;32m      1\u001b[0m \u001b[1;31m# pairplot with hue \"ReAdmissionRegistry\"\u001b[0m\u001b[1;33m\u001b[0m\u001b[1;33m\u001b[0m\u001b[0m\n\u001b[1;32m----> 2\u001b[1;33m \u001b[0msns\u001b[0m\u001b[1;33m.\u001b[0m\u001b[0mpairplot\u001b[0m\u001b[1;33m(\u001b[0m\u001b[0mdf\u001b[0m\u001b[1;33m,\u001b[0m \u001b[0mhue\u001b[0m \u001b[1;33m=\u001b[0m\u001b[1;34m'ReAdmissionRegistry'\u001b[0m\u001b[1;33m)\u001b[0m\u001b[1;33m\u001b[0m\u001b[1;33m\u001b[0m\u001b[0m\n\u001b[0m\u001b[0;32m      3\u001b[0m \u001b[1;31m# to show\u001b[0m\u001b[1;33m\u001b[0m\u001b[1;33m\u001b[0m\u001b[0m\n\u001b[0;32m      4\u001b[0m \u001b[0mplt\u001b[0m\u001b[1;33m.\u001b[0m\u001b[0mshow\u001b[0m\u001b[1;33m(\u001b[0m\u001b[1;33m)\u001b[0m\u001b[1;33m\u001b[0m\u001b[1;33m\u001b[0m\u001b[0m\n",
      "\u001b[1;32m~\\anaconda3\\lib\\site-packages\\seaborn\\_decorators.py\u001b[0m in \u001b[0;36minner_f\u001b[1;34m(*args, **kwargs)\u001b[0m\n\u001b[0;32m     44\u001b[0m             )\n\u001b[0;32m     45\u001b[0m         \u001b[0mkwargs\u001b[0m\u001b[1;33m.\u001b[0m\u001b[0mupdate\u001b[0m\u001b[1;33m(\u001b[0m\u001b[1;33m{\u001b[0m\u001b[0mk\u001b[0m\u001b[1;33m:\u001b[0m \u001b[0marg\u001b[0m \u001b[1;32mfor\u001b[0m \u001b[0mk\u001b[0m\u001b[1;33m,\u001b[0m \u001b[0marg\u001b[0m \u001b[1;32min\u001b[0m \u001b[0mzip\u001b[0m\u001b[1;33m(\u001b[0m\u001b[0msig\u001b[0m\u001b[1;33m.\u001b[0m\u001b[0mparameters\u001b[0m\u001b[1;33m,\u001b[0m \u001b[0margs\u001b[0m\u001b[1;33m)\u001b[0m\u001b[1;33m}\u001b[0m\u001b[1;33m)\u001b[0m\u001b[1;33m\u001b[0m\u001b[1;33m\u001b[0m\u001b[0m\n\u001b[1;32m---> 46\u001b[1;33m         \u001b[1;32mreturn\u001b[0m \u001b[0mf\u001b[0m\u001b[1;33m(\u001b[0m\u001b[1;33m**\u001b[0m\u001b[0mkwargs\u001b[0m\u001b[1;33m)\u001b[0m\u001b[1;33m\u001b[0m\u001b[1;33m\u001b[0m\u001b[0m\n\u001b[0m\u001b[0;32m     47\u001b[0m     \u001b[1;32mreturn\u001b[0m \u001b[0minner_f\u001b[0m\u001b[1;33m\u001b[0m\u001b[1;33m\u001b[0m\u001b[0m\n\u001b[0;32m     48\u001b[0m \u001b[1;33m\u001b[0m\u001b[0m\n",
      "\u001b[1;32m~\\anaconda3\\lib\\site-packages\\seaborn\\axisgrid.py\u001b[0m in \u001b[0;36mpairplot\u001b[1;34m(data, hue, hue_order, palette, vars, x_vars, y_vars, kind, diag_kind, markers, height, aspect, corner, dropna, plot_kws, diag_kws, grid_kws, size)\u001b[0m\n\u001b[0;32m   2094\u001b[0m     \u001b[1;31m# Set up the PairGrid\u001b[0m\u001b[1;33m\u001b[0m\u001b[1;33m\u001b[0m\u001b[0m\n\u001b[0;32m   2095\u001b[0m     \u001b[0mgrid_kws\u001b[0m\u001b[1;33m.\u001b[0m\u001b[0msetdefault\u001b[0m\u001b[1;33m(\u001b[0m\u001b[1;34m\"diag_sharey\"\u001b[0m\u001b[1;33m,\u001b[0m \u001b[0mdiag_kind\u001b[0m \u001b[1;33m==\u001b[0m \u001b[1;34m\"hist\"\u001b[0m\u001b[1;33m)\u001b[0m\u001b[1;33m\u001b[0m\u001b[1;33m\u001b[0m\u001b[0m\n\u001b[1;32m-> 2096\u001b[1;33m     grid = PairGrid(data, vars=vars, x_vars=x_vars, y_vars=y_vars, hue=hue,\n\u001b[0m\u001b[0;32m   2097\u001b[0m                     \u001b[0mhue_order\u001b[0m\u001b[1;33m=\u001b[0m\u001b[0mhue_order\u001b[0m\u001b[1;33m,\u001b[0m \u001b[0mpalette\u001b[0m\u001b[1;33m=\u001b[0m\u001b[0mpalette\u001b[0m\u001b[1;33m,\u001b[0m \u001b[0mcorner\u001b[0m\u001b[1;33m=\u001b[0m\u001b[0mcorner\u001b[0m\u001b[1;33m,\u001b[0m\u001b[1;33m\u001b[0m\u001b[1;33m\u001b[0m\u001b[0m\n\u001b[0;32m   2098\u001b[0m                     height=height, aspect=aspect, dropna=dropna, **grid_kws)\n",
      "\u001b[1;32m~\\anaconda3\\lib\\site-packages\\seaborn\\_decorators.py\u001b[0m in \u001b[0;36minner_f\u001b[1;34m(*args, **kwargs)\u001b[0m\n\u001b[0;32m     44\u001b[0m             )\n\u001b[0;32m     45\u001b[0m         \u001b[0mkwargs\u001b[0m\u001b[1;33m.\u001b[0m\u001b[0mupdate\u001b[0m\u001b[1;33m(\u001b[0m\u001b[1;33m{\u001b[0m\u001b[0mk\u001b[0m\u001b[1;33m:\u001b[0m \u001b[0marg\u001b[0m \u001b[1;32mfor\u001b[0m \u001b[0mk\u001b[0m\u001b[1;33m,\u001b[0m \u001b[0marg\u001b[0m \u001b[1;32min\u001b[0m \u001b[0mzip\u001b[0m\u001b[1;33m(\u001b[0m\u001b[0msig\u001b[0m\u001b[1;33m.\u001b[0m\u001b[0mparameters\u001b[0m\u001b[1;33m,\u001b[0m \u001b[0margs\u001b[0m\u001b[1;33m)\u001b[0m\u001b[1;33m}\u001b[0m\u001b[1;33m)\u001b[0m\u001b[1;33m\u001b[0m\u001b[1;33m\u001b[0m\u001b[0m\n\u001b[1;32m---> 46\u001b[1;33m         \u001b[1;32mreturn\u001b[0m \u001b[0mf\u001b[0m\u001b[1;33m(\u001b[0m\u001b[1;33m**\u001b[0m\u001b[0mkwargs\u001b[0m\u001b[1;33m)\u001b[0m\u001b[1;33m\u001b[0m\u001b[1;33m\u001b[0m\u001b[0m\n\u001b[0m\u001b[0;32m     47\u001b[0m     \u001b[1;32mreturn\u001b[0m \u001b[0minner_f\u001b[0m\u001b[1;33m\u001b[0m\u001b[1;33m\u001b[0m\u001b[0m\n\u001b[0;32m     48\u001b[0m \u001b[1;33m\u001b[0m\u001b[0m\n",
      "\u001b[1;32m~\\anaconda3\\lib\\site-packages\\seaborn\\axisgrid.py\u001b[0m in \u001b[0;36m__init__\u001b[1;34m(self, data, hue, hue_order, palette, hue_kws, vars, x_vars, y_vars, corner, diag_sharey, height, aspect, layout_pad, despine, dropna, size)\u001b[0m\n\u001b[0;32m   1287\u001b[0m             \u001b[1;31m# to the axes-level functions, while always handling legend creation.\u001b[0m\u001b[1;33m\u001b[0m\u001b[1;33m\u001b[0m\u001b[0m\n\u001b[0;32m   1288\u001b[0m             \u001b[1;31m# See GH2307\u001b[0m\u001b[1;33m\u001b[0m\u001b[1;33m\u001b[0m\u001b[0m\n\u001b[1;32m-> 1289\u001b[1;33m             \u001b[0mhue_names\u001b[0m \u001b[1;33m=\u001b[0m \u001b[0mhue_order\u001b[0m \u001b[1;33m=\u001b[0m \u001b[0mcategorical_order\u001b[0m\u001b[1;33m(\u001b[0m\u001b[0mdata\u001b[0m\u001b[1;33m[\u001b[0m\u001b[0mhue\u001b[0m\u001b[1;33m]\u001b[0m\u001b[1;33m,\u001b[0m \u001b[0mhue_order\u001b[0m\u001b[1;33m)\u001b[0m\u001b[1;33m\u001b[0m\u001b[1;33m\u001b[0m\u001b[0m\n\u001b[0m\u001b[0;32m   1290\u001b[0m             \u001b[1;32mif\u001b[0m \u001b[0mdropna\u001b[0m\u001b[1;33m:\u001b[0m\u001b[1;33m\u001b[0m\u001b[1;33m\u001b[0m\u001b[0m\n\u001b[0;32m   1291\u001b[0m                 \u001b[1;31m# Filter NA from the list of unique hue names\u001b[0m\u001b[1;33m\u001b[0m\u001b[1;33m\u001b[0m\u001b[0m\n",
      "\u001b[1;32m~\\anaconda3\\lib\\site-packages\\pandas\\core\\frame.py\u001b[0m in \u001b[0;36m__getitem__\u001b[1;34m(self, key)\u001b[0m\n\u001b[0;32m   3456\u001b[0m             \u001b[1;32mif\u001b[0m \u001b[0mself\u001b[0m\u001b[1;33m.\u001b[0m\u001b[0mcolumns\u001b[0m\u001b[1;33m.\u001b[0m\u001b[0mnlevels\u001b[0m \u001b[1;33m>\u001b[0m \u001b[1;36m1\u001b[0m\u001b[1;33m:\u001b[0m\u001b[1;33m\u001b[0m\u001b[1;33m\u001b[0m\u001b[0m\n\u001b[0;32m   3457\u001b[0m                 \u001b[1;32mreturn\u001b[0m \u001b[0mself\u001b[0m\u001b[1;33m.\u001b[0m\u001b[0m_getitem_multilevel\u001b[0m\u001b[1;33m(\u001b[0m\u001b[0mkey\u001b[0m\u001b[1;33m)\u001b[0m\u001b[1;33m\u001b[0m\u001b[1;33m\u001b[0m\u001b[0m\n\u001b[1;32m-> 3458\u001b[1;33m             \u001b[0mindexer\u001b[0m \u001b[1;33m=\u001b[0m \u001b[0mself\u001b[0m\u001b[1;33m.\u001b[0m\u001b[0mcolumns\u001b[0m\u001b[1;33m.\u001b[0m\u001b[0mget_loc\u001b[0m\u001b[1;33m(\u001b[0m\u001b[0mkey\u001b[0m\u001b[1;33m)\u001b[0m\u001b[1;33m\u001b[0m\u001b[1;33m\u001b[0m\u001b[0m\n\u001b[0m\u001b[0;32m   3459\u001b[0m             \u001b[1;32mif\u001b[0m \u001b[0mis_integer\u001b[0m\u001b[1;33m(\u001b[0m\u001b[0mindexer\u001b[0m\u001b[1;33m)\u001b[0m\u001b[1;33m:\u001b[0m\u001b[1;33m\u001b[0m\u001b[1;33m\u001b[0m\u001b[0m\n\u001b[0;32m   3460\u001b[0m                 \u001b[0mindexer\u001b[0m \u001b[1;33m=\u001b[0m \u001b[1;33m[\u001b[0m\u001b[0mindexer\u001b[0m\u001b[1;33m]\u001b[0m\u001b[1;33m\u001b[0m\u001b[1;33m\u001b[0m\u001b[0m\n",
      "\u001b[1;32m~\\anaconda3\\lib\\site-packages\\pandas\\core\\indexes\\base.py\u001b[0m in \u001b[0;36mget_loc\u001b[1;34m(self, key, method, tolerance)\u001b[0m\n\u001b[0;32m   3361\u001b[0m                 \u001b[1;32mreturn\u001b[0m \u001b[0mself\u001b[0m\u001b[1;33m.\u001b[0m\u001b[0m_engine\u001b[0m\u001b[1;33m.\u001b[0m\u001b[0mget_loc\u001b[0m\u001b[1;33m(\u001b[0m\u001b[0mcasted_key\u001b[0m\u001b[1;33m)\u001b[0m\u001b[1;33m\u001b[0m\u001b[1;33m\u001b[0m\u001b[0m\n\u001b[0;32m   3362\u001b[0m             \u001b[1;32mexcept\u001b[0m \u001b[0mKeyError\u001b[0m \u001b[1;32mas\u001b[0m \u001b[0merr\u001b[0m\u001b[1;33m:\u001b[0m\u001b[1;33m\u001b[0m\u001b[1;33m\u001b[0m\u001b[0m\n\u001b[1;32m-> 3363\u001b[1;33m                 \u001b[1;32mraise\u001b[0m \u001b[0mKeyError\u001b[0m\u001b[1;33m(\u001b[0m\u001b[0mkey\u001b[0m\u001b[1;33m)\u001b[0m \u001b[1;32mfrom\u001b[0m \u001b[0merr\u001b[0m\u001b[1;33m\u001b[0m\u001b[1;33m\u001b[0m\u001b[0m\n\u001b[0m\u001b[0;32m   3364\u001b[0m \u001b[1;33m\u001b[0m\u001b[0m\n\u001b[0;32m   3365\u001b[0m         \u001b[1;32mif\u001b[0m \u001b[0mis_scalar\u001b[0m\u001b[1;33m(\u001b[0m\u001b[0mkey\u001b[0m\u001b[1;33m)\u001b[0m \u001b[1;32mand\u001b[0m \u001b[0misna\u001b[0m\u001b[1;33m(\u001b[0m\u001b[0mkey\u001b[0m\u001b[1;33m)\u001b[0m \u001b[1;32mand\u001b[0m \u001b[1;32mnot\u001b[0m \u001b[0mself\u001b[0m\u001b[1;33m.\u001b[0m\u001b[0mhasnans\u001b[0m\u001b[1;33m:\u001b[0m\u001b[1;33m\u001b[0m\u001b[1;33m\u001b[0m\u001b[0m\n",
      "\u001b[1;31mKeyError\u001b[0m: 'ReAdmissionRegistry'"
     ]
    },
    {
     "data": {
      "image/png": "[encoded data removed]",
      "text/plain": [
       "<Figure size 720x720 with 16 Axes>"
      ]
     },
     "metadata": {},
     "output_type": "display_data"
    }
   ],
   "source": [
    "# pairplot with hue \"ReAdmissionRegistry\"\n",
    "sns.pairplot(df, hue ='ReAdmissionRegistry')\n",
    "# to show\n",
    "plt.show()"
   ]
  },
  {
   "cell_type": "markdown",
   "id": "b303971e",
   "metadata": {},
   "source": [
    "#### 2.Using iloc, retrieve the firstname and lastname of patients between indices 101 and 200\n",
    " "
   ]
  },
  {
   "cell_type": "code",
   "execution_count": 3,
   "id": "0106b3d1",
   "metadata": {},
   "outputs": [
    {
     "data": {
      "text/html": [
       "<div>\n",
       "<style scoped>\n",
       "    .dataframe tbody tr th:only-of-type {\n",
       "        vertical-align: middle;\n",
       "    }\n",
       "\n",
       "    .dataframe tbody tr th {\n",
       "        vertical-align: top;\n",
       "    }\n",
       "\n",
       "    .dataframe thead th {\n",
       "        text-align: right;\n",
       "    }\n",
       "</style>\n",
       "<table border=\"1\" class=\"dataframe\">\n",
       "  <thead>\n",
       "    <tr style=\"text-align: right;\">\n",
       "      <th></th>\n",
       "      <th>FirstName</th>\n",
       "      <th>LastName</th>\n",
       "    </tr>\n",
       "  </thead>\n",
       "  <tbody>\n",
       "    <tr>\n",
       "      <th>101</th>\n",
       "      <td>Gipsy</td>\n",
       "      <td>Frankton</td>\n",
       "    </tr>\n",
       "    <tr>\n",
       "      <th>102</th>\n",
       "      <td>Jethro</td>\n",
       "      <td>Wharin</td>\n",
       "    </tr>\n",
       "    <tr>\n",
       "      <th>103</th>\n",
       "      <td>Viv</td>\n",
       "      <td>Aylward</td>\n",
       "    </tr>\n",
       "    <tr>\n",
       "      <th>104</th>\n",
       "      <td>Swift</td>\n",
       "      <td>Dreschler</td>\n",
       "    </tr>\n",
       "    <tr>\n",
       "      <th>105</th>\n",
       "      <td>Fadel</td>\n",
       "      <td>Jacquemard</td>\n",
       "    </tr>\n",
       "    <tr>\n",
       "      <th>...</th>\n",
       "      <td>...</td>\n",
       "      <td>...</td>\n",
       "    </tr>\n",
       "    <tr>\n",
       "      <th>196</th>\n",
       "      <td>Noam</td>\n",
       "      <td>Laguerre</td>\n",
       "    </tr>\n",
       "    <tr>\n",
       "      <th>197</th>\n",
       "      <td>Arie</td>\n",
       "      <td>Bayless</td>\n",
       "    </tr>\n",
       "    <tr>\n",
       "      <th>198</th>\n",
       "      <td>Janaye</td>\n",
       "      <td>O'Mohun</td>\n",
       "    </tr>\n",
       "    <tr>\n",
       "      <th>199</th>\n",
       "      <td>Fonz</td>\n",
       "      <td>Group</td>\n",
       "    </tr>\n",
       "    <tr>\n",
       "      <th>200</th>\n",
       "      <td>Cummings</td>\n",
       "      <td>Pickup</td>\n",
       "    </tr>\n",
       "  </tbody>\n",
       "</table>\n",
       "<p>100 rows × 2 columns</p>\n",
       "</div>"
      ],
      "text/plain": [
       "    FirstName    LastName\n",
       "101     Gipsy    Frankton\n",
       "102    Jethro      Wharin\n",
       "103       Viv     Aylward\n",
       "104     Swift   Dreschler\n",
       "105     Fadel  Jacquemard\n",
       "..        ...         ...\n",
       "196      Noam    Laguerre\n",
       "197      Arie     Bayless\n",
       "198    Janaye     O'Mohun\n",
       "199      Fonz       Group\n",
       "200  Cummings      Pickup\n",
       "\n",
       "[100 rows x 2 columns]"
      ]
     },
     "execution_count": 3,
     "metadata": {},
     "output_type": "execute_result"
    }
   ],
   "source": [
    "df=pd.read_excel(r\"C:\\Users\\Divya\\Desktop\\DATA science\\PYTHON\\Hackathon\\HospitalDatabase.xlsx\",sheet_name=\"Patients\")\n",
    "df.loc[101:200,\"FirstName\":\"LastName\"]"
   ]
  },
  {
   "cell_type": "markdown",
   "id": "fa636653",
   "metadata": {},
   "source": [
    "#### 3.\"Create a figure object called fig using plt.figure() **\n",
    "#** Use add_axes to add an axis to the figure canvas at [0,0,1,1]. Call this new axis ax. **\n",
    "#** Plot (x,y) on that axes and set the labels.\"\n"
   ]
  },
  {
   "cell_type": "code",
   "execution_count": 32,
   "id": "c851b730",
   "metadata": {},
   "outputs": [
    {
     "data": {
      "text/plain": [
       "Text(0.5, 1.0, 'newaxisax')"
      ]
     },
     "execution_count": 32,
     "metadata": {},
     "output_type": "execute_result"
    },
    {
     "data": {
      "image/png": "[encoded data removed]",
      "text/plain": [
       "<Figure size 432x288 with 1 Axes>"
      ]
     },
     "metadata": {
      "needs_background": "light"
     },
     "output_type": "display_data"
    }
   ],
   "source": [
    "x = np.arange(0,100)\n",
    "y = x*2\n",
    "fig = plt.figure()\n",
    "ax = fig.add_axes([0,0,1,1])\n",
    "ax.plot(x,y)\n",
    "ax.set_xlabel('x')\n",
    "ax.set_ylabel('y')\n",
    "ax.set_title('newaxisax')"
   ]
  },
  {
   "cell_type": "markdown",
   "id": "7b58f8ce",
   "metadata": {},
   "source": [
    "### 4.Display Data By splitting age in 4 quartiles and labeling the quartiles\n"
   ]
  },
  {
   "cell_type": "code",
   "execution_count": 42,
   "id": "09e510cc",
   "metadata": {},
   "outputs": [
    {
     "data": {
      "text/html": [
       "<div>\n",
       "<style scoped>\n",
       "    .dataframe tbody tr th:only-of-type {\n",
       "        vertical-align: middle;\n",
       "    }\n",
       "\n",
       "    .dataframe tbody tr th {\n",
       "        vertical-align: top;\n",
       "    }\n",
       "\n",
       "    .dataframe thead th {\n",
       "        text-align: right;\n",
       "    }\n",
       "</style>\n",
       "<table border=\"1\" class=\"dataframe\">\n",
       "  <thead>\n",
       "    <tr style=\"text-align: right;\">\n",
       "      <th></th>\n",
       "      <th>PatientID</th>\n",
       "      <th>FirstName</th>\n",
       "      <th>LastName</th>\n",
       "      <th>DateOfBirth</th>\n",
       "      <th>Gender</th>\n",
       "      <th>Race</th>\n",
       "      <th>Language</th>\n",
       "      <th>Age</th>\n",
       "      <th>Age Groups</th>\n",
       "    </tr>\n",
       "  </thead>\n",
       "  <tbody>\n",
       "    <tr>\n",
       "      <th>0</th>\n",
       "      <td>1</td>\n",
       "      <td>Lanni</td>\n",
       "      <td>Sue</td>\n",
       "      <td>1960-01-01 00:00:00.000</td>\n",
       "      <td>Male</td>\n",
       "      <td>White</td>\n",
       "      <td>English</td>\n",
       "      <td>62.392926</td>\n",
       "      <td>(55.902, 62.393]</td>\n",
       "    </tr>\n",
       "    <tr>\n",
       "      <th>1</th>\n",
       "      <td>2</td>\n",
       "      <td>Far</td>\n",
       "      <td>Myers</td>\n",
       "      <td>1985-11-15 02:08:42.090</td>\n",
       "      <td>Male</td>\n",
       "      <td>White</td>\n",
       "      <td>English</td>\n",
       "      <td>36.519460</td>\n",
       "      <td>(35.033, 42.251]</td>\n",
       "    </tr>\n",
       "    <tr>\n",
       "      <th>2</th>\n",
       "      <td>3</td>\n",
       "      <td>Devlin</td>\n",
       "      <td>Michael</td>\n",
       "      <td>1976-04-15 02:52:09.762</td>\n",
       "      <td>Male</td>\n",
       "      <td>White</td>\n",
       "      <td>English</td>\n",
       "      <td>46.104790</td>\n",
       "      <td>(42.251, 48.662]</td>\n",
       "    </tr>\n",
       "    <tr>\n",
       "      <th>3</th>\n",
       "      <td>4</td>\n",
       "      <td>Carmine</td>\n",
       "      <td>Texas</td>\n",
       "      <td>1968-10-15 03:32:13.635</td>\n",
       "      <td>Male</td>\n",
       "      <td>White</td>\n",
       "      <td>English</td>\n",
       "      <td>53.603841</td>\n",
       "      <td>(48.662, 55.902]</td>\n",
       "    </tr>\n",
       "    <tr>\n",
       "      <th>4</th>\n",
       "      <td>5</td>\n",
       "      <td>Tann</td>\n",
       "      <td>Bama</td>\n",
       "      <td>1962-05-01 19:12:58.950</td>\n",
       "      <td>Male</td>\n",
       "      <td>White</td>\n",
       "      <td>English</td>\n",
       "      <td>60.060775</td>\n",
       "      <td>(55.902, 62.393]</td>\n",
       "    </tr>\n",
       "    <tr>\n",
       "      <th>...</th>\n",
       "      <td>...</td>\n",
       "      <td>...</td>\n",
       "      <td>...</td>\n",
       "      <td>...</td>\n",
       "      <td>...</td>\n",
       "      <td>...</td>\n",
       "      <td>...</td>\n",
       "      <td>...</td>\n",
       "      <td>...</td>\n",
       "    </tr>\n",
       "    <tr>\n",
       "      <th>940</th>\n",
       "      <td>941</td>\n",
       "      <td>Wat</td>\n",
       "      <td>Fideler</td>\n",
       "      <td>1986-05-26 00:01:19.761</td>\n",
       "      <td>Male</td>\n",
       "      <td>Black/African-American</td>\n",
       "      <td>English</td>\n",
       "      <td>35.994024</td>\n",
       "      <td>(35.033, 42.251]</td>\n",
       "    </tr>\n",
       "    <tr>\n",
       "      <th>941</th>\n",
       "      <td>942</td>\n",
       "      <td>Wandie</td>\n",
       "      <td>Baythrop</td>\n",
       "      <td>1970-06-10 21:41:03.814</td>\n",
       "      <td>Male</td>\n",
       "      <td>Black/African-American</td>\n",
       "      <td>English</td>\n",
       "      <td>51.950813</td>\n",
       "      <td>(48.662, 55.902]</td>\n",
       "    </tr>\n",
       "    <tr>\n",
       "      <th>942</th>\n",
       "      <td>943</td>\n",
       "      <td>Diahann</td>\n",
       "      <td>Smeeton</td>\n",
       "      <td>1983-01-08 21:49:27.884</td>\n",
       "      <td>Male</td>\n",
       "      <td>Black/African-American</td>\n",
       "      <td>English</td>\n",
       "      <td>39.370114</td>\n",
       "      <td>(35.033, 42.251]</td>\n",
       "    </tr>\n",
       "    <tr>\n",
       "      <th>943</th>\n",
       "      <td>944</td>\n",
       "      <td>Panchito</td>\n",
       "      <td>Sharple</td>\n",
       "      <td>1963-06-05 07:57:05.569</td>\n",
       "      <td>Male</td>\n",
       "      <td>Black/African-American</td>\n",
       "      <td>English</td>\n",
       "      <td>58.966897</td>\n",
       "      <td>(55.902, 62.393]</td>\n",
       "    </tr>\n",
       "    <tr>\n",
       "      <th>944</th>\n",
       "      <td>945</td>\n",
       "      <td>Walsh</td>\n",
       "      <td>Calvie</td>\n",
       "      <td>1972-08-06 03:40:03.454</td>\n",
       "      <td>Male</td>\n",
       "      <td>Black/African-American</td>\n",
       "      <td>English</td>\n",
       "      <td>49.795397</td>\n",
       "      <td>(48.662, 55.902]</td>\n",
       "    </tr>\n",
       "  </tbody>\n",
       "</table>\n",
       "<p>945 rows × 9 columns</p>\n",
       "</div>"
      ],
      "text/plain": [
       "     PatientID FirstName  LastName             DateOfBirth Gender  \\\n",
       "0            1     Lanni       Sue 1960-01-01 00:00:00.000   Male   \n",
       "1            2       Far     Myers 1985-11-15 02:08:42.090   Male   \n",
       "2            3   Devlin    Michael 1976-04-15 02:52:09.762   Male   \n",
       "3            4   Carmine     Texas 1968-10-15 03:32:13.635   Male   \n",
       "4            5     Tann       Bama 1962-05-01 19:12:58.950   Male   \n",
       "..         ...       ...       ...                     ...    ...   \n",
       "940        941       Wat   Fideler 1986-05-26 00:01:19.761   Male   \n",
       "941        942    Wandie  Baythrop 1970-06-10 21:41:03.814   Male   \n",
       "942        943   Diahann   Smeeton 1983-01-08 21:49:27.884   Male   \n",
       "943        944  Panchito   Sharple 1963-06-05 07:57:05.569   Male   \n",
       "944        945     Walsh    Calvie 1972-08-06 03:40:03.454   Male   \n",
       "\n",
       "                       Race Language        Age        Age Groups  \n",
       "0                     White  English  62.392926  (55.902, 62.393]  \n",
       "1                     White  English  36.519460  (35.033, 42.251]  \n",
       "2                     White  English  46.104790  (42.251, 48.662]  \n",
       "3                     White  English  53.603841  (48.662, 55.902]  \n",
       "4                     White  English  60.060775  (55.902, 62.393]  \n",
       "..                      ...      ...        ...               ...  \n",
       "940  Black/African-American  English  35.994024  (35.033, 42.251]  \n",
       "941  Black/African-American  English  51.950813  (48.662, 55.902]  \n",
       "942  Black/African-American  English  39.370114  (35.033, 42.251]  \n",
       "943  Black/African-American  English  58.966897  (55.902, 62.393]  \n",
       "944  Black/African-American  English  49.795397  (48.662, 55.902]  \n",
       "\n",
       "[945 rows x 9 columns]"
      ]
     },
     "execution_count": 42,
     "metadata": {},
     "output_type": "execute_result"
    }
   ],
   "source": [
    "df=pd.read_excel(r\"C:\\Users\\Divya\\Desktop\\DATA science\\PYTHON\\Hackathon\\HospitalDatabase.xlsx\",sheet_name=\"Patients\")\n",
    "now = datetime.now()\n",
    "df['Age'] =(now - df['DateOfBirth'])/np.timedelta64(1,'Y')\n",
    "\n",
    "# Splitting Age Column into Four Quantiles\n",
    "df['Age Groups'] = pd.qcut(df['Age'], 4)\n",
    "df\n"
   ]
  },
  {
   "cell_type": "code",
   "execution_count": 40,
   "id": "44ebdb61",
   "metadata": {},
   "outputs": [
    {
     "name": "stdout",
     "output_type": "stream",
     "text": [
      "category\n"
     ]
    }
   ],
   "source": [
    "df['Age Groups'] = pd.qcut(df['Age'], 4)\n",
    "print(df['Age Groups'].dtype)\n"
   ]
  },
  {
   "cell_type": "markdown",
   "id": "fd2836c0",
   "metadata": {},
   "source": [
    "#### 5.Display full name of patients who are born in 1986\n"
   ]
  },
  {
   "cell_type": "code",
   "execution_count": 35,
   "id": "506fa9b4",
   "metadata": {},
   "outputs": [],
   "source": [
    "df=pd.read_excel(r\"C:\\Users\\Divya\\Desktop\\DATA science\\PYTHON\\Hackathon\\HospitalDatabase.xlsx\",sheet_name=\"Patients\")\n",
    "df['Fullname']= df.FirstName.str.cat(df.LastName)\n",
    "\n"
   ]
  },
  {
   "cell_type": "markdown",
   "id": "01be9281",
   "metadata": {},
   "source": [
    "#### 7.Create a pair plot on whole dataframe by taking parameter \"hue\" as EDDisposition\n"
   ]
  },
  {
   "cell_type": "code",
   "execution_count": 44,
   "id": "7fa795e9",
   "metadata": {
    "scrolled": true
   },
   "outputs": [
    {
     "data": {
      "text/html": [
       "<div>\n",
       "<style scoped>\n",
       "    .dataframe tbody tr th:only-of-type {\n",
       "        vertical-align: middle;\n",
       "    }\n",
       "\n",
       "    .dataframe tbody tr th {\n",
       "        vertical-align: top;\n",
       "    }\n",
       "\n",
       "    .dataframe thead th {\n",
       "        text-align: right;\n",
       "    }\n",
       "</style>\n",
       "<table border=\"1\" class=\"dataframe\">\n",
       "  <thead>\n",
       "    <tr style=\"text-align: right;\">\n",
       "      <th></th>\n",
       "      <th>EDVisitID</th>\n",
       "      <th>PatientID</th>\n",
       "      <th>VisitDate</th>\n",
       "      <th>EDDischargeTime</th>\n",
       "      <th>Acuity</th>\n",
       "      <th>ReasonForVisit</th>\n",
       "      <th>EDDisposition</th>\n",
       "    </tr>\n",
       "  </thead>\n",
       "  <tbody>\n",
       "    <tr>\n",
       "      <th>0</th>\n",
       "      <td>18</td>\n",
       "      <td>18</td>\n",
       "      <td>2020-01-01 04:39:40.091</td>\n",
       "      <td>2020-01-02 03:25:07.379</td>\n",
       "      <td>5</td>\n",
       "      <td>Car Accident</td>\n",
       "      <td>Admitted</td>\n",
       "    </tr>\n",
       "    <tr>\n",
       "      <th>1</th>\n",
       "      <td>19</td>\n",
       "      <td>19</td>\n",
       "      <td>2020-01-01 04:56:11.608</td>\n",
       "      <td>2020-01-02 04:31:45.968</td>\n",
       "      <td>5</td>\n",
       "      <td>Chest Pain</td>\n",
       "      <td>Admitted</td>\n",
       "    </tr>\n",
       "    <tr>\n",
       "      <th>2</th>\n",
       "      <td>26</td>\n",
       "      <td>26</td>\n",
       "      <td>2020-01-01 06:14:46.240</td>\n",
       "      <td>2020-01-01 15:34:00.868</td>\n",
       "      <td>5</td>\n",
       "      <td>Chest Pain</td>\n",
       "      <td>Admitted</td>\n",
       "    </tr>\n",
       "    <tr>\n",
       "      <th>3</th>\n",
       "      <td>27</td>\n",
       "      <td>27</td>\n",
       "      <td>2020-01-01 06:27:42.483</td>\n",
       "      <td>2020-01-01 18:30:35.922</td>\n",
       "      <td>5</td>\n",
       "      <td>Chest Pain</td>\n",
       "      <td>Admitted</td>\n",
       "    </tr>\n",
       "    <tr>\n",
       "      <th>4</th>\n",
       "      <td>45</td>\n",
       "      <td>45</td>\n",
       "      <td>2020-01-01 11:53:16.342</td>\n",
       "      <td>2020-01-01 21:20:18.854</td>\n",
       "      <td>5</td>\n",
       "      <td>Shortness of Breath</td>\n",
       "      <td>admitted</td>\n",
       "    </tr>\n",
       "  </tbody>\n",
       "</table>\n",
       "</div>"
      ],
      "text/plain": [
       "   EDVisitID  PatientID               VisitDate         EDDischargeTime  \\\n",
       "0         18         18 2020-01-01 04:39:40.091 2020-01-02 03:25:07.379   \n",
       "1         19         19 2020-01-01 04:56:11.608 2020-01-02 04:31:45.968   \n",
       "2         26         26 2020-01-01 06:14:46.240 2020-01-01 15:34:00.868   \n",
       "3         27         27 2020-01-01 06:27:42.483 2020-01-01 18:30:35.922   \n",
       "4         45         45 2020-01-01 11:53:16.342 2020-01-01 21:20:18.854   \n",
       "\n",
       "   Acuity       ReasonForVisit EDDisposition  \n",
       "0       5         Car Accident      Admitted  \n",
       "1       5           Chest Pain      Admitted  \n",
       "2       5           Chest Pain      Admitted  \n",
       "3       5           Chest Pain      Admitted  \n",
       "4       5  Shortness of Breath      admitted  "
      ]
     },
     "execution_count": 44,
     "metadata": {},
     "output_type": "execute_result"
    }
   ],
   "source": [
    "df=pd.read_excel(r\"C:\\Users\\Divya\\Desktop\\DATA science\\PYTHON\\Hackathon\\HospitalDatabase.xlsx\",sheet_name=\"EDUnique\")\n",
    "df.head()"
   ]
  },
  {
   "cell_type": "code",
   "execution_count": 48,
   "id": "2d630152",
   "metadata": {},
   "outputs": [
    {
     "data": {
      "image/png": "[encoded data removed]",
      "text/plain": [
       "<Figure size 632.75x540 with 12 Axes>"
      ]
     },
     "metadata": {
      "needs_background": "light"
     },
     "output_type": "display_data"
    }
   ],
   "source": [
    "# pairplot with hue \"EDDisposition\"\n",
    "sns.pairplot(df, hue ='EDDisposition')\n",
    "# to show\n",
    "plt.show()"
   ]
  },
  {
   "cell_type": "markdown",
   "id": "737dc231",
   "metadata": {},
   "source": [
    "#### 8.Create a bar chart between expectedLOS & Primary diagnosis\n"
   ]
  },
  {
   "cell_type": "code",
   "execution_count": 49,
   "id": "e2b8fc6a",
   "metadata": {},
   "outputs": [
    {
     "data": {
      "text/html": [
       "<div>\n",
       "<style scoped>\n",
       "    .dataframe tbody tr th:only-of-type {\n",
       "        vertical-align: middle;\n",
       "    }\n",
       "\n",
       "    .dataframe tbody tr th {\n",
       "        vertical-align: top;\n",
       "    }\n",
       "\n",
       "    .dataframe thead th {\n",
       "        text-align: right;\n",
       "    }\n",
       "</style>\n",
       "<table border=\"1\" class=\"dataframe\">\n",
       "  <thead>\n",
       "    <tr style=\"text-align: right;\">\n",
       "      <th></th>\n",
       "      <th>AdmissionID</th>\n",
       "      <th>PatientID</th>\n",
       "      <th>AdmissionDate</th>\n",
       "      <th>DischargeDate</th>\n",
       "      <th>DischargeDisposition</th>\n",
       "      <th>Service</th>\n",
       "      <th>PrimaryDiagnosis</th>\n",
       "      <th>ExpectedLOS</th>\n",
       "      <th>ExpectedMortality</th>\n",
       "    </tr>\n",
       "  </thead>\n",
       "  <tbody>\n",
       "    <tr>\n",
       "      <th>0</th>\n",
       "      <td>70</td>\n",
       "      <td>215</td>\n",
       "      <td>2018-01-17</td>\n",
       "      <td>2018-01-26 11:36:41.083</td>\n",
       "      <td>Home</td>\n",
       "      <td>ICU</td>\n",
       "      <td>Pneumonia</td>\n",
       "      <td>16.998213</td>\n",
       "      <td>0.394041</td>\n",
       "    </tr>\n",
       "    <tr>\n",
       "      <th>1</th>\n",
       "      <td>174</td>\n",
       "      <td>352</td>\n",
       "      <td>2018-01-29</td>\n",
       "      <td>2018-02-02 21:21:45.388</td>\n",
       "      <td>Expired</td>\n",
       "      <td>ICU</td>\n",
       "      <td>Pneumonia</td>\n",
       "      <td>16.989907</td>\n",
       "      <td>0.573870</td>\n",
       "    </tr>\n",
       "    <tr>\n",
       "      <th>2</th>\n",
       "      <td>623</td>\n",
       "      <td>438</td>\n",
       "      <td>2018-02-03</td>\n",
       "      <td>2018-02-15 19:59:54.262</td>\n",
       "      <td>Home</td>\n",
       "      <td>ICU</td>\n",
       "      <td>AMI</td>\n",
       "      <td>16.974824</td>\n",
       "      <td>0.057530</td>\n",
       "    </tr>\n",
       "    <tr>\n",
       "      <th>3</th>\n",
       "      <td>248</td>\n",
       "      <td>663</td>\n",
       "      <td>2018-02-19</td>\n",
       "      <td>2018-02-28 15:33:40.216</td>\n",
       "      <td>Home</td>\n",
       "      <td>ICU</td>\n",
       "      <td>Heart Failure</td>\n",
       "      <td>16.867883</td>\n",
       "      <td>0.973067</td>\n",
       "    </tr>\n",
       "    <tr>\n",
       "      <th>4</th>\n",
       "      <td>39</td>\n",
       "      <td>490</td>\n",
       "      <td>2018-02-08</td>\n",
       "      <td>2018-02-22 10:01:24.704</td>\n",
       "      <td>Home</td>\n",
       "      <td>ICU</td>\n",
       "      <td>Pneumonia</td>\n",
       "      <td>16.851937</td>\n",
       "      <td>0.206923</td>\n",
       "    </tr>\n",
       "  </tbody>\n",
       "</table>\n",
       "</div>"
      ],
      "text/plain": [
       "   AdmissionID  PatientID AdmissionDate           DischargeDate  \\\n",
       "0           70        215    2018-01-17 2018-01-26 11:36:41.083   \n",
       "1          174        352    2018-01-29 2018-02-02 21:21:45.388   \n",
       "2          623        438    2018-02-03 2018-02-15 19:59:54.262   \n",
       "3          248        663    2018-02-19 2018-02-28 15:33:40.216   \n",
       "4           39        490    2018-02-08 2018-02-22 10:01:24.704   \n",
       "\n",
       "  DischargeDisposition Service PrimaryDiagnosis  ExpectedLOS  \\\n",
       "0                 Home     ICU        Pneumonia    16.998213   \n",
       "1              Expired     ICU        Pneumonia    16.989907   \n",
       "2                 Home     ICU              AMI    16.974824   \n",
       "3                 Home     ICU    Heart Failure    16.867883   \n",
       "4                 Home     ICU        Pneumonia    16.851937   \n",
       "\n",
       "   ExpectedMortality  \n",
       "0           0.394041  \n",
       "1           0.573870  \n",
       "2           0.057530  \n",
       "3           0.973067  \n",
       "4           0.206923  "
      ]
     },
     "execution_count": 49,
     "metadata": {},
     "output_type": "execute_result"
    }
   ],
   "source": [
    "df=pd.read_excel(r\"C:\\Users\\Divya\\Desktop\\DATA science\\PYTHON\\Hackathon\\HospitalDatabase.xlsx\",sheet_name=\"Discharges\")\n",
    "df.head()\n"
   ]
  },
  {
   "cell_type": "code",
   "execution_count": 50,
   "id": "d7aa7cdc",
   "metadata": {},
   "outputs": [
    {
     "data": {
      "image/png": "[encoded data removed]",
      "text/plain": [
       "<Figure size 432x288 with 1 Axes>"
      ]
     },
     "metadata": {
      "needs_background": "light"
     },
     "output_type": "display_data"
    }
   ],
   "source": [
    "sns.barplot(data=df, x=\"ExpectedLOS\", y=\"PrimaryDiagnosis\")\n",
    "plt.title('Abar chart between expectedLOS & Primary diagnosis')\n",
    "plt.xlabel('ExpectedLOS')\n",
    "plt.ylabel('PrimaryDiagnosis')\n",
    "plt.show()"
   ]
  },
  {
   "cell_type": "code",
   "execution_count": null,
   "id": "a692f053",
   "metadata": {},
   "outputs": [],
   "source": []
  }
 ],
 "metadata": {
  "kernelspec": {
   "display_name": "Python 3 (ipykernel)",
   "language": "python",
   "name": "python3"
  },
  "language_info": {
   "codemirror_mode": {
    "name": "ipython",
    "version": 3
   },
   "file_extension": ".py",
   "mimetype": "text/x-python",
   "name": "python",
   "nbconvert_exporter": "python",
   "pygments_lexer": "ipython3",
   "version": "3.9.7"
  }
 },
 "nbformat": 4,
 "nbformat_minor": 5
}
