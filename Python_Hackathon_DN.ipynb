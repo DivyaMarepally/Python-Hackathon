{
 "cells": [
  {
   "cell_type": "markdown",
   "id": "e51afc26",
   "metadata": {},
   "source": [
    "## Q 23-40, 80 - 85"
   ]
  },
  {
   "cell_type": "code",
   "execution_count": 4,
   "id": "0839600e",
   "metadata": {},
   "outputs": [],
   "source": [
    "import os\n",
    "import numpy as np\n",
    "import pandas as pd\n",
    "import matplotlib.pyplot as plt\n",
    "import seaborn as sns\n",
    "import datetime\n",
    "from datetime import date"
   ]
  },
  {
   "cell_type": "markdown",
   "id": "a9322479",
   "metadata": {},
   "source": [
    "## 23.Function to find the center element in the list. (1 element in odd length list, 2 elements in even length list)"
   ]
  },
  {
   "cell_type": "code",
   "execution_count": 4,
   "id": "381a7a75",
   "metadata": {},
   "outputs": [
    {
     "name": "stdout",
     "output_type": "stream",
     "text": [
      "(2, 'cde')\n"
     ]
    }
   ],
   "source": [
    "def findCenter(l):\n",
    "    if len(l)%2 != 0: # in case of odd length list\n",
    "        return(l[int(len(l)/2)]) # will return single element\n",
    "    else: # incase of even length list\n",
    "        return(l[int(len(l)/2)-1],l[int(len(l)/2)]) # will return two elements\n",
    "    \n",
    "l = ['ab',1,2,'cde',5,6]\n",
    "print(findCenter(l))\n",
    "\n",
    "# l = [1,2,3,4,7] - # used case for odd length list\n",
    "# findCenter(l)\n",
    "\n",
    "# n = int(input(\"Enter number of elements in the list : \"))\n",
    "# l = list(map(input(\"Enter the elements of the list : \").strip().split(',')))[:n] # Enter elements separated by comma"
   ]
  },
  {
   "cell_type": "markdown",
   "id": "4e110702",
   "metadata": {},
   "source": [
    "## 24. Get the count of number of patients based on ReasonForVisit and EDDisposition. Use stack/unstack functions\n"
   ]
  },
  {
   "cell_type": "code",
   "execution_count": 5,
   "id": "b9bf8706",
   "metadata": {},
   "outputs": [],
   "source": [
    "df_ED = pd.read_excel('HospitalDatabase.xlsx', sheet_name = 'EDVisits')"
   ]
  },
  {
   "cell_type": "code",
   "execution_count": 6,
   "id": "5da0f61e",
   "metadata": {},
   "outputs": [],
   "source": [
    "df_ED_pivot = df_ED.pivot_table(index = 'ReasonForVisit', columns = 'EDDisposition', values = 'PatientID', aggfunc='count').fillna(0)"
   ]
  },
  {
   "cell_type": "code",
   "execution_count": 7,
   "id": "09f1dba7",
   "metadata": {},
   "outputs": [
    {
     "name": "stdout",
     "output_type": "stream",
     "text": [
      "EDDisposition        Admitted  Discharged\n",
      "ReasonForVisit                           \n",
      "Accident                 39.0         0.0\n",
      "Bleeding                 16.0        15.0\n",
      "Car Accident             17.0         0.0\n",
      "Chest Pain               94.0        15.0\n",
      "Cough                     0.0         1.0\n",
      "Fever                    46.0       188.0\n",
      "Gun Shot                 16.0         0.0\n",
      "Intoxication              0.0        30.0\n",
      "Laceration                0.0        30.0\n",
      "Migraine                 47.0       109.0\n",
      "Pneumonia               136.0        65.0\n",
      "Shortness of Breath      72.0        77.0\n",
      "Stomach Ache             32.0       154.0\n"
     ]
    }
   ],
   "source": [
    "print(df_ED_pivot)"
   ]
  },
  {
   "cell_type": "code",
   "execution_count": 7,
   "id": "a40ccd45",
   "metadata": {
    "scrolled": true
   },
   "outputs": [
    {
     "data": {
      "text/plain": [
       "ReasonForVisit       EDDisposition\n",
       "Accident             Admitted          39.0\n",
       "                     Discharged         0.0\n",
       "Bleeding             Admitted          16.0\n",
       "                     Discharged        15.0\n",
       "Car Accident         Admitted          17.0\n",
       "                     Discharged         0.0\n",
       "Chest Pain           Admitted          94.0\n",
       "                     Discharged        15.0\n",
       "Cough                Admitted           0.0\n",
       "                     Discharged         1.0\n",
       "Fever                Admitted          46.0\n",
       "                     Discharged       188.0\n",
       "Gun Shot             Admitted          16.0\n",
       "                     Discharged         0.0\n",
       "Intoxication         Admitted           0.0\n",
       "                     Discharged        30.0\n",
       "Laceration           Admitted           0.0\n",
       "                     Discharged        30.0\n",
       "Migraine             Admitted          47.0\n",
       "                     Discharged       109.0\n",
       "Pneumonia            Admitted         136.0\n",
       "                     Discharged        65.0\n",
       "Shortness of Breath  Admitted          72.0\n",
       "                     Discharged        77.0\n",
       "Stomach Ache         Admitted          32.0\n",
       "                     Discharged       154.0\n",
       "dtype: float64"
      ]
     },
     "execution_count": 7,
     "metadata": {},
     "output_type": "execute_result"
    }
   ],
   "source": [
    "df_ED_pivot.stack() # stack the levels from columns to rows"
   ]
  },
  {
   "cell_type": "code",
   "execution_count": 8,
   "id": "cdf3de39",
   "metadata": {},
   "outputs": [
    {
     "data": {
      "text/plain": [
       "EDDisposition  ReasonForVisit     \n",
       "Admitted       Accident                39.0\n",
       "               Bleeding                16.0\n",
       "               Car Accident            17.0\n",
       "               Chest Pain              94.0\n",
       "               Cough                    0.0\n",
       "               Fever                   46.0\n",
       "               Gun Shot                16.0\n",
       "               Intoxication             0.0\n",
       "               Laceration               0.0\n",
       "               Migraine                47.0\n",
       "               Pneumonia              136.0\n",
       "               Shortness of Breath     72.0\n",
       "               Stomach Ache            32.0\n",
       "Discharged     Accident                 0.0\n",
       "               Bleeding                15.0\n",
       "               Car Accident             0.0\n",
       "               Chest Pain              15.0\n",
       "               Cough                    1.0\n",
       "               Fever                  188.0\n",
       "               Gun Shot                 0.0\n",
       "               Intoxication            30.0\n",
       "               Laceration              30.0\n",
       "               Migraine               109.0\n",
       "               Pneumonia               65.0\n",
       "               Shortness of Breath     77.0\n",
       "               Stomach Ache           154.0\n",
       "dtype: float64"
      ]
     },
     "execution_count": 8,
     "metadata": {},
     "output_type": "execute_result"
    }
   ],
   "source": [
    "df_ED_pivot\n",
    "df_ED_pivot.unstack()"
   ]
  },
  {
   "cell_type": "markdown",
   "id": "ad408109",
   "metadata": {},
   "source": [
    "## 25.Plot a graph by counting the no. of patients in each department"
   ]
  },
  {
   "cell_type": "code",
   "execution_count": 9,
   "id": "a30bdc0b",
   "metadata": {},
   "outputs": [],
   "source": [
    "df = pd.read_excel('HospitalDatabase.xlsx', sheet_name = None)"
   ]
  },
  {
   "cell_type": "code",
   "execution_count": 10,
   "id": "7c867d75",
   "metadata": {},
   "outputs": [
    {
     "data": {
      "text/html": [
       "<div>\n",
       "<style scoped>\n",
       "    .dataframe tbody tr th:only-of-type {\n",
       "        vertical-align: middle;\n",
       "    }\n",
       "\n",
       "    .dataframe tbody tr th {\n",
       "        vertical-align: top;\n",
       "    }\n",
       "\n",
       "    .dataframe thead th {\n",
       "        text-align: right;\n",
       "    }\n",
       "</style>\n",
       "<table border=\"1\" class=\"dataframe\">\n",
       "  <thead>\n",
       "    <tr style=\"text-align: right;\">\n",
       "      <th></th>\n",
       "      <th>VisitID</th>\n",
       "      <th>PatientMRN</th>\n",
       "      <th>ProviderID</th>\n",
       "      <th>DateofVisit</th>\n",
       "      <th>DateScheduled</th>\n",
       "      <th>VisitDepartmentID</th>\n",
       "      <th>VisitType</th>\n",
       "      <th>BloodPressureSystolic</th>\n",
       "      <th>BloodPressureDiastolic</th>\n",
       "      <th>Pulse</th>\n",
       "      <th>VisitStatus</th>\n",
       "    </tr>\n",
       "  </thead>\n",
       "  <tbody>\n",
       "    <tr>\n",
       "      <th>0</th>\n",
       "      <td>202</td>\n",
       "      <td>840</td>\n",
       "      <td>29</td>\n",
       "      <td>2019-03-19</td>\n",
       "      <td>2019-03-13 07:59:24.000</td>\n",
       "      <td>10</td>\n",
       "      <td>Physical</td>\n",
       "      <td>188.0</td>\n",
       "      <td>144.143427</td>\n",
       "      <td>83.044920</td>\n",
       "      <td>No Show</td>\n",
       "    </tr>\n",
       "    <tr>\n",
       "      <th>1</th>\n",
       "      <td>436</td>\n",
       "      <td>820</td>\n",
       "      <td>25</td>\n",
       "      <td>2019-03-19</td>\n",
       "      <td>2019-02-24 07:10:31.043</td>\n",
       "      <td>3</td>\n",
       "      <td>Follow Up</td>\n",
       "      <td>179.0</td>\n",
       "      <td>118.876808</td>\n",
       "      <td>90.309544</td>\n",
       "      <td>No Show</td>\n",
       "    </tr>\n",
       "    <tr>\n",
       "      <th>2</th>\n",
       "      <td>794</td>\n",
       "      <td>879</td>\n",
       "      <td>30</td>\n",
       "      <td>2019-04-02</td>\n",
       "      <td>2019-03-19 01:41:55.656</td>\n",
       "      <td>11</td>\n",
       "      <td>Telemedicine</td>\n",
       "      <td>133.0</td>\n",
       "      <td>98.749563</td>\n",
       "      <td>80.859776</td>\n",
       "      <td>No Show</td>\n",
       "    </tr>\n",
       "    <tr>\n",
       "      <th>3</th>\n",
       "      <td>799</td>\n",
       "      <td>884</td>\n",
       "      <td>37</td>\n",
       "      <td>2019-03-03</td>\n",
       "      <td>2019-02-25 01:25:39.696</td>\n",
       "      <td>4</td>\n",
       "      <td>Telemedicine</td>\n",
       "      <td>132.0</td>\n",
       "      <td>98.001270</td>\n",
       "      <td>82.184737</td>\n",
       "      <td>No Show</td>\n",
       "    </tr>\n",
       "    <tr>\n",
       "      <th>4</th>\n",
       "      <td>515</td>\n",
       "      <td>32</td>\n",
       "      <td>26</td>\n",
       "      <td>2019-03-16</td>\n",
       "      <td>2019-02-20 06:44:59.617</td>\n",
       "      <td>11</td>\n",
       "      <td>Telemedicine</td>\n",
       "      <td>131.0</td>\n",
       "      <td>85.115632</td>\n",
       "      <td>89.192362</td>\n",
       "      <td>No Show</td>\n",
       "    </tr>\n",
       "  </tbody>\n",
       "</table>\n",
       "</div>"
      ],
      "text/plain": [
       "   VisitID  PatientMRN  ProviderID DateofVisit           DateScheduled  \\\n",
       "0      202         840          29  2019-03-19 2019-03-13 07:59:24.000   \n",
       "1      436         820          25  2019-03-19 2019-02-24 07:10:31.043   \n",
       "2      794         879          30  2019-04-02 2019-03-19 01:41:55.656   \n",
       "3      799         884          37  2019-03-03 2019-02-25 01:25:39.696   \n",
       "4      515          32          26  2019-03-16 2019-02-20 06:44:59.617   \n",
       "\n",
       "   VisitDepartmentID     VisitType  BloodPressureSystolic  \\\n",
       "0                 10      Physical                  188.0   \n",
       "1                  3     Follow Up                  179.0   \n",
       "2                 11  Telemedicine                  133.0   \n",
       "3                  4  Telemedicine                  132.0   \n",
       "4                 11  Telemedicine                  131.0   \n",
       "\n",
       "   BloodPressureDiastolic      Pulse VisitStatus  \n",
       "0              144.143427  83.044920     No Show  \n",
       "1              118.876808  90.309544     No Show  \n",
       "2               98.749563  80.859776     No Show  \n",
       "3               98.001270  82.184737     No Show  \n",
       "4               85.115632  89.192362     No Show  "
      ]
     },
     "execution_count": 10,
     "metadata": {},
     "output_type": "execute_result"
    }
   ],
   "source": [
    "df['AmbulatoryVisits'].head()"
   ]
  },
  {
   "cell_type": "code",
   "execution_count": 12,
   "id": "41f3d7f1",
   "metadata": {},
   "outputs": [
    {
     "name": "stdout",
     "output_type": "stream",
     "text": [
      "[Text(0.5, 1.0, 'Department wise total count of patients')]\n"
     ]
    },
    {
     "data": {
      "image/png": "[encoded data removed]",
      "text/plain": [
       "<Figure size 432x288 with 1 Axes>"
      ]
     },
     "metadata": {
      "needs_background": "light"
     },
     "output_type": "display_data"
    }
   ],
   "source": [
    "print(sns.countplot(x= df['AmbulatoryVisits']['VisitDepartmentID']).set(title = 'Department wise total count of patients' ))"
   ]
  },
  {
   "cell_type": "markdown",
   "id": "c0fd869b",
   "metadata": {},
   "source": [
    "## 26. Using Arrays and Loops, find the count of of patients based on gender"
   ]
  },
  {
   "cell_type": "code",
   "execution_count": 10,
   "id": "5ee4ee09",
   "metadata": {},
   "outputs": [
    {
     "data": {
      "text/html": [
       "<div>\n",
       "<style scoped>\n",
       "    .dataframe tbody tr th:only-of-type {\n",
       "        vertical-align: middle;\n",
       "    }\n",
       "\n",
       "    .dataframe tbody tr th {\n",
       "        vertical-align: top;\n",
       "    }\n",
       "\n",
       "    .dataframe thead th {\n",
       "        text-align: right;\n",
       "    }\n",
       "</style>\n",
       "<table border=\"1\" class=\"dataframe\">\n",
       "  <thead>\n",
       "    <tr style=\"text-align: right;\">\n",
       "      <th></th>\n",
       "      <th>PatientID</th>\n",
       "      <th>FirstName</th>\n",
       "      <th>LastName</th>\n",
       "      <th>DateOfBirth</th>\n",
       "      <th>Gender</th>\n",
       "      <th>Race</th>\n",
       "      <th>Language</th>\n",
       "    </tr>\n",
       "  </thead>\n",
       "  <tbody>\n",
       "    <tr>\n",
       "      <th>0</th>\n",
       "      <td>1</td>\n",
       "      <td>Lanni</td>\n",
       "      <td>Sue</td>\n",
       "      <td>1960-01-01 00:00:00.000</td>\n",
       "      <td>Male</td>\n",
       "      <td>White</td>\n",
       "      <td>English</td>\n",
       "    </tr>\n",
       "    <tr>\n",
       "      <th>1</th>\n",
       "      <td>2</td>\n",
       "      <td>Far</td>\n",
       "      <td>Myers</td>\n",
       "      <td>1985-11-15 02:08:42.090</td>\n",
       "      <td>Male</td>\n",
       "      <td>White</td>\n",
       "      <td>English</td>\n",
       "    </tr>\n",
       "    <tr>\n",
       "      <th>2</th>\n",
       "      <td>3</td>\n",
       "      <td>Devlin</td>\n",
       "      <td>Michael</td>\n",
       "      <td>1976-04-15 02:52:09.762</td>\n",
       "      <td>Male</td>\n",
       "      <td>White</td>\n",
       "      <td>English</td>\n",
       "    </tr>\n",
       "    <tr>\n",
       "      <th>3</th>\n",
       "      <td>4</td>\n",
       "      <td>Carmine</td>\n",
       "      <td>Texas</td>\n",
       "      <td>1968-10-15 03:32:13.635</td>\n",
       "      <td>Male</td>\n",
       "      <td>White</td>\n",
       "      <td>English</td>\n",
       "    </tr>\n",
       "    <tr>\n",
       "      <th>4</th>\n",
       "      <td>5</td>\n",
       "      <td>Tann</td>\n",
       "      <td>Bama</td>\n",
       "      <td>1962-05-01 19:12:58.950</td>\n",
       "      <td>Male</td>\n",
       "      <td>White</td>\n",
       "      <td>English</td>\n",
       "    </tr>\n",
       "  </tbody>\n",
       "</table>\n",
       "</div>"
      ],
      "text/plain": [
       "   PatientID FirstName LastName             DateOfBirth Gender   Race Language\n",
       "0          1     Lanni      Sue 1960-01-01 00:00:00.000   Male  White  English\n",
       "1          2       Far    Myers 1985-11-15 02:08:42.090   Male  White  English\n",
       "2          3   Devlin   Michael 1976-04-15 02:52:09.762   Male  White  English\n",
       "3          4   Carmine    Texas 1968-10-15 03:32:13.635   Male  White  English\n",
       "4          5     Tann      Bama 1962-05-01 19:12:58.950   Male  White  English"
      ]
     },
     "execution_count": 10,
     "metadata": {},
     "output_type": "execute_result"
    }
   ],
   "source": [
    "df = pd.read_excel('HospitalDatabase.xlsx', sheet_name = None)\n",
    "df['Patients'].head() # check the first few records"
   ]
  },
  {
   "cell_type": "code",
   "execution_count": 14,
   "id": "9ecc7c4f",
   "metadata": {},
   "outputs": [
    {
     "data": {
      "text/plain": [
       "pandas.core.series.Series"
      ]
     },
     "execution_count": 14,
     "metadata": {},
     "output_type": "execute_result"
    }
   ],
   "source": [
    "type(df['Patients']['Gender']) # check type of dataframe column"
   ]
  },
  {
   "cell_type": "code",
   "execution_count": 15,
   "id": "b307455d",
   "metadata": {},
   "outputs": [],
   "source": [
    "g_array = df['Patients']['Gender'].to_numpy() # converting gender column to array"
   ]
  },
  {
   "cell_type": "code",
   "execution_count": 16,
   "id": "5b8f25b2",
   "metadata": {},
   "outputs": [
    {
     "data": {
      "text/plain": [
       "(945,)"
      ]
     },
     "execution_count": 16,
     "metadata": {},
     "output_type": "execute_result"
    }
   ],
   "source": [
    "g_array.shape # checking numberof records in array"
   ]
  },
  {
   "cell_type": "code",
   "execution_count": 17,
   "id": "30a01fa1",
   "metadata": {},
   "outputs": [
    {
     "name": "stdout",
     "output_type": "stream",
     "text": [
      "Total Male Patients: 537\n",
      "Total Female Patients: 408\n"
     ]
    }
   ],
   "source": [
    "count_m=0\n",
    "count_f=0\n",
    "for val in g_array:\n",
    "    if val==\"Male\":\n",
    "        count_m += 1\n",
    "    else:\n",
    "        count_f += 1\n",
    "print('Total Male Patients:' ,count_m)\n",
    "print('Total Female Patients:' ,count_f)    \n",
    "        "
   ]
  },
  {
   "cell_type": "markdown",
   "id": "99c4f17a",
   "metadata": {},
   "source": [
    "## 27.Plot a graph to count the patients based on discharge disposition\n"
   ]
  },
  {
   "cell_type": "code",
   "execution_count": 18,
   "id": "9f0bd201",
   "metadata": {},
   "outputs": [
    {
     "data": {
      "text/html": [
       "<div>\n",
       "<style scoped>\n",
       "    .dataframe tbody tr th:only-of-type {\n",
       "        vertical-align: middle;\n",
       "    }\n",
       "\n",
       "    .dataframe tbody tr th {\n",
       "        vertical-align: top;\n",
       "    }\n",
       "\n",
       "    .dataframe thead th {\n",
       "        text-align: right;\n",
       "    }\n",
       "</style>\n",
       "<table border=\"1\" class=\"dataframe\">\n",
       "  <thead>\n",
       "    <tr style=\"text-align: right;\">\n",
       "      <th></th>\n",
       "      <th>AdmissionID</th>\n",
       "      <th>PatientID</th>\n",
       "      <th>AdmissionDate</th>\n",
       "      <th>DischargeDate</th>\n",
       "      <th>DischargeDisposition</th>\n",
       "      <th>Service</th>\n",
       "      <th>PrimaryDiagnosis</th>\n",
       "      <th>ExpectedLOS</th>\n",
       "      <th>ExpectedMortality</th>\n",
       "      <th>ReadmissionFlag</th>\n",
       "      <th>DaysToReadmission</th>\n",
       "      <th>EDVisitAfterDischargeFlag</th>\n",
       "    </tr>\n",
       "  </thead>\n",
       "  <tbody>\n",
       "    <tr>\n",
       "      <th>0</th>\n",
       "      <td>389</td>\n",
       "      <td>1</td>\n",
       "      <td>2018-01-01</td>\n",
       "      <td>2018-01-04 19:59:31.391</td>\n",
       "      <td>Home</td>\n",
       "      <td>Hospitalist</td>\n",
       "      <td>Kidney Failure</td>\n",
       "      <td>6.717771</td>\n",
       "      <td>0.010046</td>\n",
       "      <td>NaN</td>\n",
       "      <td>NaN</td>\n",
       "      <td>NaN</td>\n",
       "    </tr>\n",
       "    <tr>\n",
       "      <th>1</th>\n",
       "      <td>635</td>\n",
       "      <td>2</td>\n",
       "      <td>2018-01-01</td>\n",
       "      <td>2018-01-04 21:28:51.898</td>\n",
       "      <td>Home</td>\n",
       "      <td>General Medicine</td>\n",
       "      <td>Flu</td>\n",
       "      <td>3.825969</td>\n",
       "      <td>0.604562</td>\n",
       "      <td>1.0</td>\n",
       "      <td>2.0</td>\n",
       "      <td>1.0</td>\n",
       "    </tr>\n",
       "    <tr>\n",
       "      <th>2</th>\n",
       "      <td>606</td>\n",
       "      <td>3</td>\n",
       "      <td>2018-01-01</td>\n",
       "      <td>2018-01-04 22:28:23.672</td>\n",
       "      <td>Home</td>\n",
       "      <td>General Medicine</td>\n",
       "      <td>Flu</td>\n",
       "      <td>3.382493</td>\n",
       "      <td>0.266137</td>\n",
       "      <td>1.0</td>\n",
       "      <td>3.0</td>\n",
       "      <td>1.0</td>\n",
       "    </tr>\n",
       "    <tr>\n",
       "      <th>3</th>\n",
       "      <td>587</td>\n",
       "      <td>5</td>\n",
       "      <td>2018-01-01</td>\n",
       "      <td>2018-01-05 05:47:04.933</td>\n",
       "      <td>Home</td>\n",
       "      <td>General Medicine</td>\n",
       "      <td>Flu</td>\n",
       "      <td>3.763352</td>\n",
       "      <td>0.307527</td>\n",
       "      <td>1.0</td>\n",
       "      <td>4.0</td>\n",
       "      <td>1.0</td>\n",
       "    </tr>\n",
       "    <tr>\n",
       "      <th>4</th>\n",
       "      <td>640</td>\n",
       "      <td>6</td>\n",
       "      <td>2018-01-01</td>\n",
       "      <td>2018-01-05 14:18:30.029</td>\n",
       "      <td>Home</td>\n",
       "      <td>ICU</td>\n",
       "      <td>Heart Failure</td>\n",
       "      <td>13.650953</td>\n",
       "      <td>0.408898</td>\n",
       "      <td>NaN</td>\n",
       "      <td>NaN</td>\n",
       "      <td>NaN</td>\n",
       "    </tr>\n",
       "  </tbody>\n",
       "</table>\n",
       "</div>"
      ],
      "text/plain": [
       "   AdmissionID  PatientID AdmissionDate           DischargeDate  \\\n",
       "0          389          1    2018-01-01 2018-01-04 19:59:31.391   \n",
       "1          635          2    2018-01-01 2018-01-04 21:28:51.898   \n",
       "2          606          3    2018-01-01 2018-01-04 22:28:23.672   \n",
       "3          587          5    2018-01-01 2018-01-05 05:47:04.933   \n",
       "4          640          6    2018-01-01 2018-01-05 14:18:30.029   \n",
       "\n",
       "  DischargeDisposition           Service PrimaryDiagnosis  ExpectedLOS  \\\n",
       "0                 Home       Hospitalist   Kidney Failure     6.717771   \n",
       "1                 Home  General Medicine              Flu     3.825969   \n",
       "2                 Home  General Medicine              Flu     3.382493   \n",
       "3                 Home  General Medicine              Flu     3.763352   \n",
       "4                 Home               ICU    Heart Failure    13.650953   \n",
       "\n",
       "   ExpectedMortality  ReadmissionFlag  DaysToReadmission  \\\n",
       "0           0.010046              NaN                NaN   \n",
       "1           0.604562              1.0                2.0   \n",
       "2           0.266137              1.0                3.0   \n",
       "3           0.307527              1.0                4.0   \n",
       "4           0.408898              NaN                NaN   \n",
       "\n",
       "   EDVisitAfterDischargeFlag  \n",
       "0                        NaN  \n",
       "1                        1.0  \n",
       "2                        1.0  \n",
       "3                        1.0  \n",
       "4                        NaN  "
      ]
     },
     "execution_count": 18,
     "metadata": {},
     "output_type": "execute_result"
    }
   ],
   "source": [
    " df['ReAdmissionRegistry'].head()"
   ]
  },
  {
   "cell_type": "code",
   "execution_count": 19,
   "id": "c8b950b7",
   "metadata": {},
   "outputs": [
    {
     "data": {
      "text/plain": [
       "Home        577\n",
       "Expired     104\n",
       "Transfer     39\n",
       "Name: DischargeDisposition, dtype: int64"
      ]
     },
     "execution_count": 19,
     "metadata": {},
     "output_type": "execute_result"
    }
   ],
   "source": [
    "dis_count = df['ReAdmissionRegistry']['DischargeDisposition'].value_counts()\n",
    "dis_count"
   ]
  },
  {
   "cell_type": "code",
   "execution_count": 20,
   "id": "d49f7031",
   "metadata": {},
   "outputs": [
    {
     "data": {
      "text/plain": [
       "[Text(0.5, 1.0, 'Count of Patients based on Discharge Disposition')]"
      ]
     },
     "execution_count": 20,
     "metadata": {},
     "output_type": "execute_result"
    },
    {
     "data": {
      "image/png": "[encoded data removed]",
      "text/plain": [
       "<Figure size 432x288 with 1 Axes>"
      ]
     },
     "metadata": {
      "needs_background": "light"
     },
     "output_type": "display_data"
    }
   ],
   "source": [
    "sns.countplot(x= df['ReAdmissionRegistry']['DischargeDisposition']).set(title = 'Count of Patients based on Discharge Disposition')"
   ]
  },
  {
   "cell_type": "markdown",
   "id": "38171c0c",
   "metadata": {},
   "source": [
    "## 28. Which reason of visit has maximum mortality rate"
   ]
  },
  {
   "cell_type": "code",
   "execution_count": 19,
   "id": "d896413b",
   "metadata": {},
   "outputs": [
    {
     "data": {
      "text/plain": [
       "(720, 945, 720)"
      ]
     },
     "execution_count": 19,
     "metadata": {},
     "output_type": "execute_result"
    }
   ],
   "source": [
    "newdf_1 = df['Discharges'].filter(['PatientID', 'DischargeDisposition'])\n",
    "newdf_2 = df['EDUnique'].filter(['PatientID','ReasonForVisit'])\n",
    "newdf_3 = pd.merge(newdf_1, newdf_2, on='PatientID')\n",
    "len(newdf_1), len(newdf_2), len(newdf_3)\n",
    "# new_df_3.groupby(['DischargeDisposition','ReasonForVisit']).count()"
   ]
  },
  {
   "cell_type": "code",
   "execution_count": 20,
   "id": "f36bd842",
   "metadata": {},
   "outputs": [
    {
     "data": {
      "text/html": [
       "<div>\n",
       "<style scoped>\n",
       "    .dataframe tbody tr th:only-of-type {\n",
       "        vertical-align: middle;\n",
       "    }\n",
       "\n",
       "    .dataframe tbody tr th {\n",
       "        vertical-align: top;\n",
       "    }\n",
       "\n",
       "    .dataframe thead th {\n",
       "        text-align: right;\n",
       "    }\n",
       "</style>\n",
       "<table border=\"1\" class=\"dataframe\">\n",
       "  <thead>\n",
       "    <tr style=\"text-align: right;\">\n",
       "      <th></th>\n",
       "      <th></th>\n",
       "      <th>PatientID</th>\n",
       "    </tr>\n",
       "    <tr>\n",
       "      <th>ReasonForVisit</th>\n",
       "      <th>DischargeDisposition</th>\n",
       "      <th></th>\n",
       "    </tr>\n",
       "  </thead>\n",
       "  <tbody>\n",
       "    <tr>\n",
       "      <th>Fever</th>\n",
       "      <th>Expired</th>\n",
       "      <td>22</td>\n",
       "    </tr>\n",
       "    <tr>\n",
       "      <th>Pneumonia</th>\n",
       "      <th>Expired</th>\n",
       "      <td>19</td>\n",
       "    </tr>\n",
       "    <tr>\n",
       "      <th>Stomach Ache</th>\n",
       "      <th>Expired</th>\n",
       "      <td>17</td>\n",
       "    </tr>\n",
       "    <tr>\n",
       "      <th>Chest Pain</th>\n",
       "      <th>Expired</th>\n",
       "      <td>12</td>\n",
       "    </tr>\n",
       "    <tr>\n",
       "      <th>Shortness of Breath</th>\n",
       "      <th>Expired</th>\n",
       "      <td>10</td>\n",
       "    </tr>\n",
       "  </tbody>\n",
       "</table>\n",
       "</div>"
      ],
      "text/plain": [
       "                                          PatientID\n",
       "ReasonForVisit      DischargeDisposition           \n",
       "Fever               Expired                      22\n",
       "Pneumonia           Expired                      19\n",
       "Stomach Ache        Expired                      17\n",
       "Chest Pain          Expired                      12\n",
       "Shortness of Breath Expired                      10"
      ]
     },
     "execution_count": 20,
     "metadata": {},
     "output_type": "execute_result"
    }
   ],
   "source": [
    "newdf_4= newdf_3.groupby(['DischargeDisposition']).get_group(\"Expired\")\n",
    "newdf_5 = newdf_4.groupby(['ReasonForVisit','DischargeDisposition']).count().sort_values(\"PatientID\", ascending = False)\n",
    "newdf_5.head()\n",
    "# Fever has the max mortality count"
   ]
  },
  {
   "cell_type": "markdown",
   "id": "73e6ac77",
   "metadata": {},
   "source": [
    "## 29. Calculate average LOS"
   ]
  },
  {
   "cell_type": "code",
   "execution_count": 25,
   "id": "5e448c28",
   "metadata": {},
   "outputs": [
    {
     "data": {
      "text/html": [
       "<div>\n",
       "<style scoped>\n",
       "    .dataframe tbody tr th:only-of-type {\n",
       "        vertical-align: middle;\n",
       "    }\n",
       "\n",
       "    .dataframe tbody tr th {\n",
       "        vertical-align: top;\n",
       "    }\n",
       "\n",
       "    .dataframe thead th {\n",
       "        text-align: right;\n",
       "    }\n",
       "</style>\n",
       "<table border=\"1\" class=\"dataframe\">\n",
       "  <thead>\n",
       "    <tr style=\"text-align: right;\">\n",
       "      <th></th>\n",
       "      <th>AdmissionID</th>\n",
       "      <th>PatientID</th>\n",
       "      <th>AdmissionDate</th>\n",
       "      <th>DischargeDate</th>\n",
       "      <th>DischargeDisposition</th>\n",
       "      <th>Service</th>\n",
       "      <th>PrimaryDiagnosis</th>\n",
       "      <th>ExpectedLOS</th>\n",
       "      <th>ExpectedMortality</th>\n",
       "    </tr>\n",
       "  </thead>\n",
       "  <tbody>\n",
       "    <tr>\n",
       "      <th>0</th>\n",
       "      <td>1</td>\n",
       "      <td>9</td>\n",
       "      <td>2018-01-01</td>\n",
       "      <td>2018-01-07 18:06:06.408</td>\n",
       "      <td>Expired</td>\n",
       "      <td>Cardiology</td>\n",
       "      <td>AMI</td>\n",
       "      <td>9.646857</td>\n",
       "      <td>0.061540</td>\n",
       "    </tr>\n",
       "    <tr>\n",
       "      <th>1</th>\n",
       "      <td>257</td>\n",
       "      <td>93</td>\n",
       "      <td>2018-01-06</td>\n",
       "      <td>2018-01-18 02:59:04.667</td>\n",
       "      <td>Expired</td>\n",
       "      <td>Cardiology</td>\n",
       "      <td>Broken Leg</td>\n",
       "      <td>6.816558</td>\n",
       "      <td>0.628827</td>\n",
       "    </tr>\n",
       "    <tr>\n",
       "      <th>2</th>\n",
       "      <td>152</td>\n",
       "      <td>101</td>\n",
       "      <td>2018-01-07</td>\n",
       "      <td>2018-01-11 16:16:06.782</td>\n",
       "      <td>Expired</td>\n",
       "      <td>Cardiology</td>\n",
       "      <td>Kidney Failure</td>\n",
       "      <td>6.580273</td>\n",
       "      <td>0.573887</td>\n",
       "    </tr>\n",
       "    <tr>\n",
       "      <th>3</th>\n",
       "      <td>361</td>\n",
       "      <td>102</td>\n",
       "      <td>2018-01-07</td>\n",
       "      <td>2018-01-15 04:48:33.134</td>\n",
       "      <td>Expired</td>\n",
       "      <td>Cardiology</td>\n",
       "      <td>Afib</td>\n",
       "      <td>12.794536</td>\n",
       "      <td>0.222163</td>\n",
       "    </tr>\n",
       "    <tr>\n",
       "      <th>4</th>\n",
       "      <td>258</td>\n",
       "      <td>103</td>\n",
       "      <td>2018-01-07</td>\n",
       "      <td>2018-01-15 13:32:36.157</td>\n",
       "      <td>Expired</td>\n",
       "      <td>Cardiology</td>\n",
       "      <td>Broken Leg</td>\n",
       "      <td>2.639297</td>\n",
       "      <td>0.055468</td>\n",
       "    </tr>\n",
       "  </tbody>\n",
       "</table>\n",
       "</div>"
      ],
      "text/plain": [
       "   AdmissionID  PatientID AdmissionDate           DischargeDate  \\\n",
       "0            1          9    2018-01-01 2018-01-07 18:06:06.408   \n",
       "1          257         93    2018-01-06 2018-01-18 02:59:04.667   \n",
       "2          152        101    2018-01-07 2018-01-11 16:16:06.782   \n",
       "3          361        102    2018-01-07 2018-01-15 04:48:33.134   \n",
       "4          258        103    2018-01-07 2018-01-15 13:32:36.157   \n",
       "\n",
       "  DischargeDisposition     Service PrimaryDiagnosis  ExpectedLOS  \\\n",
       "0              Expired  Cardiology              AMI     9.646857   \n",
       "1              Expired  Cardiology       Broken Leg     6.816558   \n",
       "2              Expired  Cardiology   Kidney Failure     6.580273   \n",
       "3              Expired  Cardiology             Afib    12.794536   \n",
       "4              Expired  Cardiology       Broken Leg     2.639297   \n",
       "\n",
       "   ExpectedMortality  \n",
       "0           0.061540  \n",
       "1           0.628827  \n",
       "2           0.573887  \n",
       "3           0.222163  \n",
       "4           0.055468  "
      ]
     },
     "execution_count": 25,
     "metadata": {},
     "output_type": "execute_result"
    }
   ],
   "source": [
    "df['Discharges'].head()"
   ]
  },
  {
   "cell_type": "code",
   "execution_count": 26,
   "id": "abb47665",
   "metadata": {},
   "outputs": [],
   "source": [
    "df['Discharges']['LOS']= (df['Discharges']['DischargeDate'] - df['Discharges']['AdmissionDate']).dt.days\n",
    "# calculates the difference between dates in days"
   ]
  },
  {
   "cell_type": "code",
   "execution_count": 27,
   "id": "597642b8",
   "metadata": {},
   "outputs": [
    {
     "name": "stdout",
     "output_type": "stream",
     "text": [
      "9.53\n"
     ]
    }
   ],
   "source": [
    "print(round(df['Discharges']['LOS'].mean(),2)) # Average LOS"
   ]
  },
  {
   "cell_type": "markdown",
   "id": "387553a3",
   "metadata": {},
   "source": [
    "## 30.Which patientid has most entries in readmission registry"
   ]
  },
  {
   "cell_type": "code",
   "execution_count": 28,
   "id": "5f5dbc6e",
   "metadata": {},
   "outputs": [
    {
     "name": "stdout",
     "output_type": "stream",
     "text": [
      "23     3\n",
      "257    2\n",
      "14     2\n",
      "300    2\n",
      "26     2\n",
      "      ..\n",
      "249    1\n",
      "250    1\n",
      "251    1\n",
      "252    1\n",
      "742    1\n",
      "Name: PatientID, Length: 704, dtype: int64\n"
     ]
    }
   ],
   "source": [
    " print(df['ReAdmissionRegistry']['PatientID'].value_counts())\n",
    "# Patient ID 23 has the most entries in the readmission registry"
   ]
  },
  {
   "cell_type": "markdown",
   "id": "0435f72e",
   "metadata": {},
   "source": [
    "## 31. Find count of White Spanish Male\n"
   ]
  },
  {
   "cell_type": "code",
   "execution_count": 15,
   "id": "2d746f62",
   "metadata": {},
   "outputs": [
    {
     "name": "stdout",
     "output_type": "stream",
     "text": [
      "PatientID    15\n",
      "dtype: int64\n"
     ]
    }
   ],
   "source": [
    "men_white = df['Patients'][(df['Patients']['Gender'] == 'Male') & (df['Patients']['Race'] == 'White') & (df['Patients']['Language']== 'Spanish')].agg({'PatientID':'count'})\n",
    "print(men_white) # Count of White Spanish Male = 15"
   ]
  },
  {
   "cell_type": "markdown",
   "id": "078ce3f5",
   "metadata": {},
   "source": [
    "## 32. Write a function to print the table of the given number"
   ]
  },
  {
   "cell_type": "code",
   "execution_count": 30,
   "id": "774478cc",
   "metadata": {},
   "outputs": [
    {
     "name": "stdout",
     "output_type": "stream",
     "text": [
      "Enter a number:5\n",
      "5 x 1 = 5\n",
      "5 x 2 = 10\n",
      "5 x 3 = 15\n",
      "5 x 4 = 20\n",
      "5 x 5 = 25\n",
      "5 x 6 = 30\n",
      "5 x 7 = 35\n",
      "5 x 8 = 40\n",
      "5 x 9 = 45\n",
      "5 x 10 = 50\n"
     ]
    }
   ],
   "source": [
    "n = int(input('Enter a number:' )) \n",
    "count = 1\n",
    "while count <= 10:\n",
    "    n = n*1\n",
    "    print(n, 'x', count, '=', n*count)\n",
    "    count += 1"
   ]
  },
  {
   "cell_type": "markdown",
   "id": "30c9e923",
   "metadata": {},
   "source": [
    "## 33. Using a bar chart, which Service had the lowest count of Expected Mortality?"
   ]
  },
  {
   "cell_type": "code",
   "execution_count": 31,
   "id": "3e0728af",
   "metadata": {},
   "outputs": [
    {
     "data": {
      "image/png": "[encoded data removed]",
      "text/plain": [
       "<Figure size 432x288 with 1 Axes>"
      ]
     },
     "metadata": {
      "needs_background": "light"
     },
     "output_type": "display_data"
    }
   ],
   "source": [
    "exp_mor = df['Discharges'].groupby(['Service']).agg({'ExpectedMortality': 'count'}).sort_values('ExpectedMortality', ascending = True)\n",
    "exp_mor.plot.bar(color = 'orange', edgecolor = 'black')\n",
    "plt.title('Bar Plot of Service and Count of Expected Mortality')\n",
    "plt.xlabel('Service')\n",
    "plt.ylabel('count of expected mortality')\n",
    "plt.show()\n",
    "\n",
    "# Orthopeadics has the lowest count of expected mortality"
   ]
  },
  {
   "cell_type": "markdown",
   "id": "3596c43c",
   "metadata": {},
   "source": [
    "## 34. np.arange(1,31).reshape(6,5) Find the array slicing to get the elements with values 11,12,16,17"
   ]
  },
  {
   "cell_type": "code",
   "execution_count": 32,
   "id": "dd8474b9",
   "metadata": {},
   "outputs": [
    {
     "name": "stdout",
     "output_type": "stream",
     "text": [
      "[[11 12]\n",
      " [16 17]]\n"
     ]
    }
   ],
   "source": [
    "x = np.arange(1,31).reshape(6,5)\n",
    "print(x[2:4,0:2])"
   ]
  },
  {
   "cell_type": "markdown",
   "id": "770e2a36",
   "metadata": {},
   "source": [
    "## 35. np.arange(1,31).reshape(6,5), find array slicing for elements 2,8,14,20"
   ]
  },
  {
   "cell_type": "code",
   "execution_count": 33,
   "id": "850cceb1",
   "metadata": {},
   "outputs": [
    {
     "name": "stdout",
     "output_type": "stream",
     "text": [
      "[ 2  8 14 20]\n"
     ]
    }
   ],
   "source": [
    "y = np.arange(1,31).reshape(6,5)\n",
    "print(np.diag(y, k=1))"
   ]
  },
  {
   "cell_type": "markdown",
   "id": "2d668d77",
   "metadata": {},
   "source": [
    "## 36.Create a correlation matrix on EDVisits"
   ]
  },
  {
   "cell_type": "code",
   "execution_count": 34,
   "id": "cf55b9f0",
   "metadata": {},
   "outputs": [
    {
     "name": "stdout",
     "output_type": "stream",
     "text": [
      "           EDVisitID  PatientID    Acuity\n",
      "EDVisitID   1.000000   0.975477  0.005813\n",
      "PatientID   0.975477   1.000000  0.003545\n",
      "Acuity      0.005813   0.003545  1.000000\n"
     ]
    }
   ],
   "source": [
    "cor_matrix = df['EDVisits'].corr()\n",
    "print(cor_matrix)"
   ]
  },
  {
   "cell_type": "markdown",
   "id": "2cec6a27",
   "metadata": {},
   "source": [
    "## 37.Write a function to print all the upper case letter of a given sentence"
   ]
  },
  {
   "cell_type": "code",
   "execution_count": 35,
   "id": "989839b4",
   "metadata": {},
   "outputs": [
    {
     "name": "stdout",
     "output_type": "stream",
     "text": [
      "Enter a sentenceThe weather is sunny\n",
      "THE WEATHER IS SUNNY\n"
     ]
    }
   ],
   "source": [
    "sample = input('Enter a sentence')\n",
    "print(sample.upper())"
   ]
  },
  {
   "cell_type": "markdown",
   "id": "929fd2a5",
   "metadata": {},
   "source": [
    "## 38. Number of patients on 'Transfer' based on primary diagnosis"
   ]
  },
  {
   "cell_type": "code",
   "execution_count": 37,
   "id": "d838d3ca",
   "metadata": {},
   "outputs": [
    {
     "name": "stdout",
     "output_type": "stream",
     "text": [
      "                  PatientID\n",
      "PrimaryDiagnosis           \n",
      "Afib                      1\n",
      "Knee Replacement          1\n",
      "Laceration                1\n",
      "Pain                      1\n",
      "Flu                       2\n",
      "Diabetes                  7\n",
      "Pneumonia                 8\n",
      "Heart Failure             9\n",
      "Stroke                    9\n"
     ]
    }
   ],
   "source": [
    "df_t = df['ReAdmissionRegistry'].groupby(['DischargeDisposition']).get_group ('Transfer') # group by using DischargeDisposition\n",
    "df_p = df_t.groupby(['PrimaryDiagnosis']).agg({'PatientID': 'count'}).sort_values('PatientID', ascending = True) # group by using PrimaryDiagnosis\n",
    "print(df_p)\n",
    "# Total no. of patients = 39"
   ]
  },
  {
   "cell_type": "markdown",
   "id": "0c0f7fc4",
   "metadata": {},
   "source": [
    "## 39. Get the FirstName, LastName,DateOfBirth of the Patients whose reason for visit is Migraine. Use EDUnique Sheet for reason for visit"
   ]
  },
  {
   "cell_type": "code",
   "execution_count": 38,
   "id": "218fc01e",
   "metadata": {},
   "outputs": [
    {
     "name": "stdout",
     "output_type": "stream",
     "text": [
      "   PatientID FirstName LastName             DateOfBirth\n",
      "0          1     Lanni      Sue 1960-01-01 00:00:00.000\n",
      "1          2       Far    Myers 1985-11-15 02:08:42.090\n",
      "2          3   Devlin   Michael 1976-04-15 02:52:09.762\n",
      "3          4   Carmine    Texas 1968-10-15 03:32:13.635\n",
      "4          5     Tann      Bama 1962-05-01 19:12:58.950\n",
      "   PatientID ReasonForVisit\n",
      "0          1   Stomach Ache\n",
      "1         12       Migraine\n",
      "2         13   Stomach Ache\n",
      "3         14       Migraine\n",
      "4         15     Chest Pain\n"
     ]
    }
   ],
   "source": [
    "new_pat = df['Patients'].filter(['PatientID','FirstName','LastName', 'DateOfBirth'], axis = 1)\n",
    "print(new_pat.head())\n",
    "new_ed = df['EDUnique'].filter(['PatientID','ReasonForVisit'], axis = 1)\n",
    "print(new_ed.head())"
   ]
  },
  {
   "cell_type": "code",
   "execution_count": 39,
   "id": "20552bad",
   "metadata": {},
   "outputs": [
    {
     "name": "stdout",
     "output_type": "stream",
     "text": [
      "     PatientID FirstName  LastName             DateOfBirth ReasonForVisit\n",
      "1            2       Far     Myers 1985-11-15 02:08:42.090       Migraine\n",
      "2            3   Devlin    Michael 1976-04-15 02:52:09.762       Migraine\n",
      "11          12    Zonnya        Ab 1963-05-23 10:04:33.074       Migraine\n",
      "13          14       Gan        Yu 1970-06-02 06:22:54.675       Migraine\n",
      "21          22    Joesph      Long 1979-12-04 16:45:56.080       Migraine\n",
      "..         ...       ...       ...                     ...            ...\n",
      "896        897   Barrows  Coupland 1979-10-31 18:28:35.483       Migraine\n",
      "907        908      Knox     Group 1975-08-25 22:27:50.177       Migraine\n",
      "909        910   Kuvalis  Coupland 1986-05-23 19:23:27.752       Migraine\n",
      "914        915  Jerrilyn     Dyson 1978-01-18 02:41:55.178       Migraine\n",
      "923        924    Daniel  Shakesby 1980-11-28 17:57:03.702       Migraine\n",
      "\n",
      "[116 rows x 5 columns]\n"
     ]
    }
   ],
   "source": [
    "new_merge= pd.merge(new_pat, new_ed, on = 'PatientID')\n",
    "# print(new_merge.head())\n",
    "\n",
    "# Deriving patients who visited for Migraine\n",
    "print(new_merge[new_merge['ReasonForVisit']== 'Migraine']) # 116 patients whose reason of visit was Migraine"
   ]
  },
  {
   "cell_type": "markdown",
   "id": "3a76577d",
   "metadata": {},
   "source": [
    "## 40. Plot a graph showing the count of patients for the reason visited the hospotal."
   ]
  },
  {
   "cell_type": "code",
   "execution_count": 52,
   "id": "273c7e42",
   "metadata": {},
   "outputs": [
    {
     "data": {
      "image/png": "[encoded data removed]",
      "text/plain": [
       "<Figure size 1224x864 with 1 Axes>"
      ]
     },
     "metadata": {},
     "output_type": "display_data"
    }
   ],
   "source": [
    "sns.countplot(x = 'ReasonForVisit', data = df['EDVisits'], order= df['EDVisits']['ReasonForVisit'].value_counts().index).set(title = 'ReasonForVisit & Count of patients')\n",
    "sns.set(rc={'figure.figsize':(17,12)})\n",
    "plt.title('ReasonForVisit & Count of patients', fontsize=14)\n",
    "plt.tick_params(axis='both', which='major', labelsize=10.5)\n",
    "plt.show()"
   ]
  },
  {
   "cell_type": "code",
   "execution_count": 1162,
   "id": "828d1a43",
   "metadata": {},
   "outputs": [
    {
     "data": {
      "text/plain": [
       "ReasonForVisit\n",
       "Cough                    1\n",
       "Gun Shot                16\n",
       "Car Accident            17\n",
       "Intoxication            30\n",
       "Laceration              30\n",
       "Bleeding                31\n",
       "Accident                39\n",
       "Chest Pain             109\n",
       "Shortness of Breath    149\n",
       "Migraine               156\n",
       "Stomach Ache           186\n",
       "Pneumonia              201\n",
       "Fever                  234\n",
       "Name: PatientID, dtype: int64"
      ]
     },
     "execution_count": 1162,
     "metadata": {},
     "output_type": "execute_result"
    }
   ],
   "source": [
    "df['EDVisits'].groupby(['ReasonForVisit'])['PatientID'].count().sort_values(ascending = True)"
   ]
  },
  {
   "cell_type": "code",
   "execution_count": 49,
   "id": "e3356e04",
   "metadata": {},
   "outputs": [
    {
     "data": {
      "image/png": "[encoded data removed]",
      "text/plain": [
       "<Figure size 1224x864 with 1 Axes>"
      ]
     },
     "metadata": {},
     "output_type": "display_data"
    }
   ],
   "source": [
    "sns.countplot(x = 'ReasonForVisit', data = df['EDUnique'], order= df['EDUnique']['ReasonForVisit'].value_counts().index).set(title = 'ReasonForVisit & Count of patients')\n",
    "sns.set(rc={'figure.figsize':(17,12)})\n",
    "plt.title('ReasonForVisit & Count of patients', fontsize=14)\n",
    "plt.tick_params(axis='both', which='major', labelsize=10.5)\n",
    "plt.show()"
   ]
  },
  {
   "cell_type": "code",
   "execution_count": 1213,
   "id": "6609607c",
   "metadata": {},
   "outputs": [
    {
     "data": {
      "text/plain": [
       "ReasonForVisit\n",
       "Car Accident            16\n",
       "Gun Shot                16\n",
       "Laceration              22\n",
       "Intoxication            23\n",
       "Bleeding                25\n",
       "Accident                37\n",
       "Chest Pain              91\n",
       "Migraine               116\n",
       "Shortness of Breath    120\n",
       "Stomach Ache           136\n",
       "Pneumonia              171\n",
       "Fever                  172\n",
       "Name: PatientID, dtype: int64"
      ]
     },
     "execution_count": 1213,
     "metadata": {},
     "output_type": "execute_result"
    }
   ],
   "source": [
    "df['EDUnique'].groupby(['ReasonForVisit'])['PatientID'].count().sort_values(ascending = True)"
   ]
  },
  {
   "cell_type": "markdown",
   "id": "8b79d387",
   "metadata": {},
   "source": [
    "## 80.Write a code snippet to print different ProviderSpecialty ( use groupby and get the list of the groups)"
   ]
  },
  {
   "cell_type": "code",
   "execution_count": 67,
   "id": "2cde5a7f",
   "metadata": {},
   "outputs": [
    {
     "name": "stdout",
     "output_type": "stream",
     "text": [
      "['Cardiology', 'Pediatrics', 'PrimaryCare', 'Surgery']\n"
     ]
    }
   ],
   "source": [
    "p_grp = list(df['Providers'].groupby('ProviderSpecialty').groups)\n",
    "print(p_grp)"
   ]
  },
  {
   "cell_type": "markdown",
   "id": "659f1417",
   "metadata": {},
   "source": [
    "## 81. Display full name of patients "
   ]
  },
  {
   "cell_type": "code",
   "execution_count": 85,
   "id": "52c82df8",
   "metadata": {},
   "outputs": [
    {
     "name": "stdout",
     "output_type": "stream",
     "text": [
      "0             Lanni Sue\n",
      "1             Far Myers\n",
      "2       Devlin  Michael\n",
      "3         Carmine Texas\n",
      "4            Tann  Bama\n",
      "             ...       \n",
      "940         Wat Fideler\n",
      "941     Wandie Baythrop\n",
      "942     Diahann Smeeton\n",
      "943    Panchito Sharple\n",
      "944        Walsh Calvie\n",
      "Length: 945, dtype: object\n"
     ]
    },
    {
     "data": {
      "text/plain": [
       "pandas.core.series.Series"
      ]
     },
     "execution_count": 85,
     "metadata": {},
     "output_type": "execute_result"
    }
   ],
   "source": [
    "df_fullname = df['Patients']['FirstName'] + ' ' + df['Patients']['LastName']\n",
    "print(df_fullname)"
   ]
  },
  {
   "cell_type": "markdown",
   "id": "162913d6",
   "metadata": {},
   "source": [
    "## 82. Retrieve the rows where SBP<140 and DBP<80"
   ]
  },
  {
   "cell_type": "code",
   "execution_count": 110,
   "id": "83c93127",
   "metadata": {},
   "outputs": [
    {
     "name": "stdout",
     "output_type": "stream",
     "text": [
      "     VisitID  PatientMRN  ProviderID DateofVisit           DateScheduled  \\\n",
      "5        809         894          31  2019-03-13 2019-02-28 10:28:01.091   \n",
      "16       707         859          36  2019-03-16 2019-02-26 17:42:39.779   \n",
      "18       503         887          12  2019-01-21 2019-01-07 06:04:17.575   \n",
      "19       710         862           1  2019-03-19 2019-03-03 11:39:03.145   \n",
      "23       711         863           1  2019-03-20 2019-03-10 07:34:56.766   \n",
      "..       ...         ...         ...         ...                     ...   \n",
      "909      177         815          32  2019-02-22 2019-02-04 06:53:41.987   \n",
      "929      786         871          34  2019-03-25 2019-02-26 09:48:42.832   \n",
      "932      394         623           6  2019-02-05 2019-01-10 05:43:34.544   \n",
      "941      399         638          11  2019-02-10 2019-02-02 20:49:56.868   \n",
      "943      403         650          15  2019-02-14 2019-02-11 00:47:42.216   \n",
      "\n",
      "     VisitDepartmentID     VisitType  BloodPressureSystolic  \\\n",
      "5                    2      Physical                  121.0   \n",
      "16                   6     Follow Up                  137.0   \n",
      "18                   7     Follow Up                  131.0   \n",
      "19                   9  Telemedicine                  127.0   \n",
      "23                  10  Telemedicine                  124.0   \n",
      "..                 ...           ...                    ...   \n",
      "909                  9     Follow Up                  122.0   \n",
      "929                  3  Telemedicine                  122.0   \n",
      "932                  9      Physical                  130.0   \n",
      "941                  2      Physical                  121.0   \n",
      "943                  6      Physical                  129.0   \n",
      "\n",
      "     BloodPressureDiastolic      Pulse VisitStatus  \n",
      "5                 57.692485  60.402573     No Show  \n",
      "16                72.756586  64.071361     No Show  \n",
      "18                74.163851  97.248671     No Show  \n",
      "19                66.406797  94.537837     No Show  \n",
      "23                77.303553  77.926874     No Show  \n",
      "..                      ...        ...         ...  \n",
      "909               67.615828  52.742629    Canceled  \n",
      "929               78.210501  53.760978    Canceled  \n",
      "932               75.114100  80.951071    Canceled  \n",
      "941               64.896818  68.496869    Canceled  \n",
      "943               68.506636  62.732434    Canceled  \n",
      "\n",
      "[103 rows x 11 columns]\n"
     ]
    }
   ],
   "source": [
    "bp_rows = df['AmbulatoryVisits'][(df['AmbulatoryVisits']['BloodPressureSystolic'] < 140) & (df['AmbulatoryVisits']['BloodPressureDiastolic'] < 80)]\n",
    "print(bp_rows)"
   ]
  },
  {
   "cell_type": "markdown",
   "id": "2d5329f1",
   "metadata": {},
   "source": [
    "## 83 Create the plot where x= np.arange(0, 10, 0.1) and y= np.sin(np.pi * x) + x by adding two axes to a figure object at [0.1,0.1,0.9,0.9] & [0.2,0.6,0.3,0.3]"
   ]
  },
  {
   "cell_type": "code",
   "execution_count": 159,
   "id": "c663f168",
   "metadata": {},
   "outputs": [
    {
     "data": {
      "image/png": "[encoded data removed]",
      "text/plain": [
       "<Figure size 1224x864 with 2 Axes>"
      ]
     },
     "metadata": {},
     "output_type": "display_data"
    }
   ],
   "source": [
    "x = np.arange(0, 10, 0.1)\n",
    "y = np.sin(np.pi * x) + x\n",
    "\n",
    "fig=plt.figure()\n",
    "\n",
    "fig_m= fig.add_axes([0.1,0.1,0.9,0.9])\n",
    "\n",
    "fig_i=fig.add_axes([0.2,0.6,0.3,0.3])\n",
    "fig_m.plot(x,y)\n",
    "fig_i.plot(y,x)\n",
    "plt.show()"
   ]
  },
  {
   "cell_type": "markdown",
   "id": "df0dedf0",
   "metadata": {},
   "source": [
    "## 84. Find the list of patients whose ExpectedLOS is greater than the value given by the user"
   ]
  },
  {
   "cell_type": "code",
   "execution_count": 14,
   "id": "aa216ce9",
   "metadata": {},
   "outputs": [
    {
     "name": "stdout",
     "output_type": "stream",
     "text": [
      "Enter expected LOS: 5\n",
      "     AdmissionID  PatientID AdmissionDate           DischargeDate  \\\n",
      "0            389          1    2018-01-01 2018-01-04 19:59:31.391   \n",
      "4            640          6    2018-01-01 2018-01-05 14:18:30.029   \n",
      "5            434          7    2018-01-01 2018-01-06 13:01:00.276   \n",
      "6            549          8    2018-01-01 2018-01-07 15:39:25.987   \n",
      "7              1          9    2018-01-01 2018-01-07 18:06:06.408   \n",
      "..           ...        ...           ...                     ...   \n",
      "712          692        735    2018-02-22 2018-03-07 06:41:40.164   \n",
      "714          533        737    2018-02-22 2018-03-07 19:50:58.083   \n",
      "715          521        738    2018-02-22 2018-03-07 21:22:10.061   \n",
      "716          548        739    2018-02-22 2018-03-08 02:43:18.749   \n",
      "719          710        742    2018-02-22 2018-03-10 20:38:30.568   \n",
      "\n",
      "    DischargeDisposition           Service PrimaryDiagnosis  ExpectedLOS  \\\n",
      "0                   Home       Hospitalist   Kidney Failure     6.717771   \n",
      "4                   Home               ICU    Heart Failure    13.650953   \n",
      "5                   Home       Hospitalist        Pneumonia     9.555047   \n",
      "6                   Home       Hospitalist        Pneumonia    16.472257   \n",
      "7                Expired        Cardiology              AMI     9.646857   \n",
      "..                   ...               ...              ...          ...   \n",
      "712              Expired  General Medicine        Pneumonia     8.322151   \n",
      "714                 Home               ICU        Pneumonia    10.563688   \n",
      "715                 Home        Cardiology              AMI    13.725405   \n",
      "716                 Home               ICU        Pneumonia    11.355456   \n",
      "719             Transfer  General Medicine         Diabetes     7.195441   \n",
      "\n",
      "     ExpectedMortality  ReadmissionFlag  DaysToReadmission  \\\n",
      "0             0.010046              NaN                NaN   \n",
      "4             0.408898              NaN                NaN   \n",
      "5             0.063634              1.0                4.0   \n",
      "6             0.526198              1.0                5.0   \n",
      "7             0.061540              NaN                NaN   \n",
      "..                 ...              ...                ...   \n",
      "712           0.315679              NaN                NaN   \n",
      "714           0.583075              NaN                NaN   \n",
      "715           0.388319              NaN                NaN   \n",
      "716           0.088518              NaN                NaN   \n",
      "719           0.286439              NaN                NaN   \n",
      "\n",
      "     EDVisitAfterDischargeFlag  \n",
      "0                          NaN  \n",
      "4                          NaN  \n",
      "5                          1.0  \n",
      "6                          1.0  \n",
      "7                          1.0  \n",
      "..                         ...  \n",
      "712                        1.0  \n",
      "714                        NaN  \n",
      "715                        NaN  \n",
      "716                        NaN  \n",
      "719                        NaN  \n",
      "\n",
      "[543 rows x 12 columns]\n"
     ]
    }
   ],
   "source": [
    "df['ReAdmissionRegistry'].head()\n",
    "u_value = float(input(\"Enter expected LOS: \"))\n",
    "a_los = df['ReAdmissionRegistry'][df['ReAdmissionRegistry']['ExpectedLOS'] > u_value]\n",
    "print(a_los)"
   ]
  },
  {
   "cell_type": "markdown",
   "id": "2ba25b54",
   "metadata": {},
   "source": [
    "## 85.Find count of Black/African American, English Females"
   ]
  },
  {
   "cell_type": "code",
   "execution_count": 152,
   "id": "8966f469",
   "metadata": {},
   "outputs": [
    {
     "name": "stdout",
     "output_type": "stream",
     "text": [
      "119\n"
     ]
    }
   ],
   "source": [
    "cnt_f = df['Patients'][(df['Patients']['Race'] == 'Black/African-American') & (df['Patients']['Language']== 'English') & (df['Patients']['Gender'] == 'Female')]['PatientID'].count()\n",
    "print(cnt_f)"
   ]
  }
 ],
 "metadata": {
  "kernelspec": {
   "display_name": "Python 3 (ipykernel)",
   "language": "python",
   "name": "python3"
  },
  "language_info": {
   "codemirror_mode": {
    "name": "ipython",
    "version": 3
   },
   "file_extension": ".py",
   "mimetype": "text/x-python",
   "name": "python",
   "nbconvert_exporter": "python",
   "pygments_lexer": "ipython3",
   "version": "3.9.7"
  }
 },
 "nbformat": 4,
 "nbformat_minor": 5
}
